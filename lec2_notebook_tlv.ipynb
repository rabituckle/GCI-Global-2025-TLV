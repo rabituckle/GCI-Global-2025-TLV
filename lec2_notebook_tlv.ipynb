{
  "cells": [
    {
      "cell_type": "markdown",
      "metadata": {
        "id": "view-in-github",
        "colab_type": "text"
      },
      "source": [
        "<a href=\"https://colab.research.google.com/github/rabituckle/GCI-Global-2025-TLV/blob/main/lec2_notebook_tlv.ipynb\" target=\"_parent\"><img src=\"https://colab.research.google.com/assets/colab-badge.svg\" alt=\"Open In Colab\"/></a>"
      ]
    },
    {
      "cell_type": "markdown",
      "metadata": {
        "id": "6ojSC-6lkgK0"
      },
      "source": [
        "## 1 Basics of Python"
      ]
    },
    {
      "cell_type": "markdown",
      "metadata": {
        "id": "bNQ_E_EUk9iU"
      },
      "source": [
        "**Programming** refers to the process of designing and constructing a program (a set of instructions for the computer) for a specific purpose. To put it simply, programming is about describing the steps to perform a certain calculation.\n",
        "\n",
        "For example, when you want to find the sum of `2` and `3`, you can write and execute the following program to obtain the answer. This is a simple example, but still a valid program."
      ]
    },
    {
      "cell_type": "code",
      "execution_count": 1,
      "metadata": {
        "id": "u48dkVSelC_c",
        "colab": {
          "base_uri": "https://localhost:8080/"
        },
        "outputId": "54b5f04c-c7bd-4465-ea4e-cf0e9ef3f92c"
      },
      "outputs": [
        {
          "output_type": "execute_result",
          "data": {
            "text/plain": [
              "5"
            ]
          },
          "metadata": {},
          "execution_count": 1
        }
      ],
      "source": [
        "2 + 3"
      ]
    },
    {
      "cell_type": "markdown",
      "metadata": {
        "id": "PLTDTMcOmVRg"
      },
      "source": [
        "As a more complex example, here is a program to calculate the sum of numbers from `1` to `10`. (We will learn more details in the following sections.)"
      ]
    },
    {
      "cell_type": "code",
      "execution_count": 2,
      "metadata": {
        "id": "Ahk2G3Ssl3cB",
        "colab": {
          "base_uri": "https://localhost:8080/"
        },
        "outputId": "7bcbfb0e-e601-4749-da9e-5b3bb8df1aa6"
      },
      "outputs": [
        {
          "output_type": "execute_result",
          "data": {
            "text/plain": [
              "55"
            ]
          },
          "metadata": {},
          "execution_count": 2
        }
      ],
      "source": [
        "s = 0\n",
        "for n in range(1,11):\n",
        "    s = s + n\n",
        "s"
      ]
    },
    {
      "cell_type": "markdown",
      "metadata": {
        "id": "ggK2Str3mlzv"
      },
      "source": [
        "When programming, you use some **programming language**. Programming languages have rules like \"writing program A executes process B.\" These rules are called **syntax** or **grammar**, which varies depending on the programming language used. Learning programming starts with understanding this grammar.\n",
        "\n",
        "In this course, we will use the language Python for programming because there are plenty of tools available for data analysis and machine learning. In fact, many people use Python in that field. Python is also a relatively easy language for programming beginners to understand. Therefore, in this chapter, we will learn the basic grammar of Python."
      ]
    },
    {
      "cell_type": "markdown",
      "metadata": {
        "id": "lJcH8Yc4mvQn"
      },
      "source": [
        "## 1.1. Approach to Programming"
      ]
    },
    {
      "cell_type": "markdown",
      "metadata": {
        "id": "28z5JOUBmz0f"
      },
      "source": [
        "We will now start programming with Python, so let me briefly explain the process. You are probably using **Google Colaboratory** (or a similar tool) to read this file. Google Colaboratory provides a Python execution environment where you can write Python programs in boxes called **cells** and run them by pressing Shift + Enter.\n",
        "\n",
        "There are several types of cells, but the one used to execute programs is called a **Code cell**. When you write a program and execute it, the execution result is displayed.\n",
        "\n",
        "You can also leave notes in the notebook. The cell used for this purpose is called a **Text cell**. By using Markdown syntax, you can create well-formatted text."
      ]
    },
    {
      "cell_type": "markdown",
      "metadata": {
        "id": "W4IM2tpim4Lc"
      },
      "source": [
        "Now, let's run the program we just wrote. If the correct output is returned, that's OK."
      ]
    },
    {
      "cell_type": "code",
      "execution_count": 3,
      "metadata": {
        "id": "VatiPCD1m867",
        "colab": {
          "base_uri": "https://localhost:8080/"
        },
        "outputId": "2bbef79d-49f1-423f-c61a-966b7142c940"
      },
      "outputs": [
        {
          "output_type": "execute_result",
          "data": {
            "text/plain": [
              "5"
            ]
          },
          "metadata": {},
          "execution_count": 3
        }
      ],
      "source": [
        "2 + 3"
      ]
    },
    {
      "cell_type": "code",
      "execution_count": 4,
      "metadata": {
        "id": "d9uiZ-ckm8Lk",
        "colab": {
          "base_uri": "https://localhost:8080/"
        },
        "outputId": "83e031bf-85a7-4b1d-89e2-2242aff5000c"
      },
      "outputs": [
        {
          "output_type": "execute_result",
          "data": {
            "text/plain": [
              "55"
            ]
          },
          "metadata": {},
          "execution_count": 4
        }
      ],
      "source": [
        "s = 0\n",
        "for n in range(1,11):\n",
        "    s = s + n\n",
        "s"
      ]
    },
    {
      "cell_type": "markdown",
      "metadata": {
        "id": "h-ji3srAnCCG"
      },
      "source": [
        "## 1.2. Comments"
      ]
    },
    {
      "cell_type": "markdown",
      "metadata": {
        "id": "WfZSz5synFq1"
      },
      "source": [
        "In addition to Jupyter Notebook, there are various Python execution environments available. For example, the Python interactive shell returns the execution results for the input program. However, it does not typically save the input program or output results, so the content disappears when the shell is closed. In contrast, Jupyter Notebook allows you to save both the program and its execution results, so there is no issue even when you close the notebook.\n",
        "\n",
        "However, even if the program is retained, its meaning may become unclear. When writing a program, it is useful to leave moderate notes to refer back to later. In many programming languages, you can add **comments** to the program, and the parts written as comments are ignored during program execution.\n",
        "\n",
        "In Python, the part to the right of `#` is considered a comment. Let's confirm this with an example."
      ]
    },
    {
      "cell_type": "code",
      "execution_count": 5,
      "metadata": {
        "id": "Kldjb6mjnKqk",
        "colab": {
          "base_uri": "https://localhost:8080/"
        },
        "outputId": "f7d9bcd8-7271-4f08-d623-3c041a705cda"
      },
      "outputs": [
        {
          "output_type": "execute_result",
          "data": {
            "text/plain": [
              "5"
            ]
          },
          "metadata": {},
          "execution_count": 5
        }
      ],
      "source": [
        "# Addition\n",
        "2 + 3 # Addition\n",
        "# Comment..."
      ]
    },
    {
      "cell_type": "markdown",
      "metadata": {
        "id": "PKPhJjbEnN71"
      },
      "source": [
        "## 1.3. Dealing with Errors"
      ]
    },
    {
      "cell_type": "markdown",
      "metadata": {
        "id": "E-xK1JpDnSOT"
      },
      "source": [
        "In programming, **errors** are inevitable. Errors occur when writing programs that do not follow the syntax or when performing some kind of invalid operation. When an error occurs, the program execution stops at that point, and an error message is displayed indicating where and why the error occurred. You will likely encounter many errors in the future, but the first step is to try to decipher the error message. If you don't understand its meaning, try searching on the internet. There are surely people who have struggled with similar errors."
      ]
    },
    {
      "cell_type": "markdown",
      "metadata": {
        "id": "kaY17pI-Lj0K"
      },
      "source": [
        "# Python Grammar I\n",
        "Related explanation video: https://www.youtube.com/playlist?list=PLiEF5y87wtyyc3mVmmRpUcAi_a74w52CI"
      ]
    },
    {
      "cell_type": "markdown",
      "metadata": {
        "id": "Ul713RAJNQzu"
      },
      "source": [
        "## 1.4. Operators"
      ]
    },
    {
      "cell_type": "markdown",
      "metadata": {
        "id": "ZQFnR-QrT2NQ"
      },
      "source": [
        "### 1.4.1. Arithmetic Operators\n",
        "\n",
        "Arithmetic operators are used to perform basic mathematical operations in Python."
      ]
    },
    {
      "cell_type": "markdown",
      "metadata": {
        "id": "wg-lASByOxLz"
      },
      "source": [
        "In programming, **operators** instruct the computer to evaluate new values. Specifically, arithmetic operators such as addition and subtraction perform calculations between numbers, similar to mathematics. In Python, addition and subtraction use symbols common in math, while multiplication, division, and exponentiation have their own unique symbols."
      ]
    },
    {
      "cell_type": "code",
      "execution_count": 6,
      "metadata": {
        "id": "fVJ-sEFtOvT4",
        "colab": {
          "base_uri": "https://localhost:8080/"
        },
        "outputId": "84ccd97f-ebc3-4236-9ae6-085433838132"
      },
      "outputs": [
        {
          "output_type": "stream",
          "name": "stdout",
          "text": [
            "5\n"
          ]
        }
      ],
      "source": [
        "# Addition\n",
        "print(2 + 3)"
      ]
    },
    {
      "cell_type": "code",
      "execution_count": 7,
      "metadata": {
        "id": "_MWElYsCO05s",
        "colab": {
          "base_uri": "https://localhost:8080/"
        },
        "outputId": "bfb77c51-a8c6-4993-fdfc-8dba42afeea1"
      },
      "outputs": [
        {
          "output_type": "stream",
          "name": "stdout",
          "text": [
            "8\n"
          ]
        }
      ],
      "source": [
        "# Subtraction\n",
        "print(10 - 2)"
      ]
    },
    {
      "cell_type": "code",
      "execution_count": 8,
      "metadata": {
        "id": "zkHkngJ_O3Ye",
        "colab": {
          "base_uri": "https://localhost:8080/"
        },
        "outputId": "efdd0fc0-9a76-4c05-fc54-48a489c3d837"
      },
      "outputs": [
        {
          "output_type": "stream",
          "name": "stdout",
          "text": [
            "6\n"
          ]
        }
      ],
      "source": [
        "# Multiplication\n",
        "print(3 * 2)"
      ]
    },
    {
      "cell_type": "code",
      "execution_count": 9,
      "metadata": {
        "id": "ofIOKV25Pp8e",
        "colab": {
          "base_uri": "https://localhost:8080/"
        },
        "outputId": "d175f41c-d7e6-48ea-a987-5526724508e4"
      },
      "outputs": [
        {
          "output_type": "stream",
          "name": "stdout",
          "text": [
            "1.5\n"
          ]
        }
      ],
      "source": [
        "# Division\n",
        "print(3 / 2)"
      ]
    },
    {
      "cell_type": "code",
      "execution_count": 10,
      "metadata": {
        "id": "JaHodWYTPycC",
        "colab": {
          "base_uri": "https://localhost:8080/"
        },
        "outputId": "57169ab6-8a13-4009-f797-52dc96856b34"
      },
      "outputs": [
        {
          "output_type": "stream",
          "name": "stdout",
          "text": [
            "2\n"
          ]
        }
      ],
      "source": [
        "# Integer division\n",
        "print(5//2)"
      ]
    },
    {
      "cell_type": "code",
      "execution_count": 11,
      "metadata": {
        "id": "vw3RAtmVQMKc",
        "colab": {
          "base_uri": "https://localhost:8080/"
        },
        "outputId": "b57de475-6082-4be3-81a0-7db7ba417755"
      },
      "outputs": [
        {
          "output_type": "stream",
          "name": "stdout",
          "text": [
            "1\n"
          ]
        }
      ],
      "source": [
        "# Modulo operation (remainder)\n",
        "print(5 % 2)"
      ]
    },
    {
      "cell_type": "code",
      "execution_count": 12,
      "metadata": {
        "id": "fGQrQl3BQcFo",
        "colab": {
          "base_uri": "https://localhost:8080/"
        },
        "outputId": "ac9fa38e-455d-4101-c441-65b1c7efbe4e"
      },
      "outputs": [
        {
          "output_type": "stream",
          "name": "stdout",
          "text": [
            "1000\n"
          ]
        }
      ],
      "source": [
        "# Exponential operation\n",
        "print(10 ** 3)"
      ]
    },
    {
      "cell_type": "markdown",
      "metadata": {
        "id": "oe2VdUgeUD7L"
      },
      "source": [
        "### 1.4.2. Operator Precedence in Arithmetic"
      ]
    },
    {
      "cell_type": "markdown",
      "metadata": {
        "id": "JFin85KrPpqS"
      },
      "source": [
        "When there are multiple operators, they are evaluated in order of higher precedence. The precedence of arithmetic operators is as follows: exponentiation > multiplication and division > addition and subtraction. Just as in mathematics, where multiplication is done before addition, you can use parentheses to change the order of evaluation."
      ]
    },
    {
      "cell_type": "code",
      "execution_count": 13,
      "metadata": {
        "id": "zo4CgegxQ4DR",
        "colab": {
          "base_uri": "https://localhost:8080/"
        },
        "outputId": "92e6ca37-b1c5-4440-fcda-22a8d14ebe36"
      },
      "outputs": [
        {
          "output_type": "stream",
          "name": "stdout",
          "text": [
            "7\n"
          ]
        }
      ],
      "source": [
        "# Priority: Multiplication > Addition\n",
        "print(1 + 2 * 3)"
      ]
    },
    {
      "cell_type": "code",
      "execution_count": 14,
      "metadata": {
        "id": "u3vcJgJiRTJt",
        "colab": {
          "base_uri": "https://localhost:8080/"
        },
        "outputId": "727e634b-e171-4e6a-9087-4877c7fddc8d"
      },
      "outputs": [
        {
          "output_type": "stream",
          "name": "stdout",
          "text": [
            "9\n"
          ]
        }
      ],
      "source": [
        "# Priority: addition inside parentheses > multiplication\n",
        "print((1 + 2) * 3)"
      ]
    },
    {
      "cell_type": "code",
      "execution_count": 15,
      "metadata": {
        "id": "Zshe0KPdQ-P3",
        "colab": {
          "base_uri": "https://localhost:8080/"
        },
        "outputId": "dfae463e-3975-4b2a-bb80-4966347d0b57"
      },
      "outputs": [
        {
          "output_type": "stream",
          "name": "stdout",
          "text": [
            "16\n"
          ]
        }
      ],
      "source": [
        "# Priority: Exponentiation > Multiplication\n",
        "print(2 * 2 ** 3)"
      ]
    },
    {
      "cell_type": "markdown",
      "metadata": {
        "id": "7TGjC-SzQ-YK"
      },
      "source": [
        "## 1.5. Variables"
      ]
    },
    {
      "cell_type": "markdown",
      "metadata": {
        "id": "9sWKqfMNQ-YK"
      },
      "source": [
        "Next, let's talk about **variables**. Variables are like boxes where you can store the results of calculations.\n",
        "\n",
        "Assigning a value to a variable is called **assignment**, and using that value is called **referencing**. You can assign values of various data types, not just numbers. (※1.6 Data Types)\n",
        "\n",
        "In the example below, a variable with the **variable name** `x` is used.\n",
        "\n",
        "In programming languages, the `=` sign is not used to denote \"equality.\" Instead, it is used to \"assign\" the value on the right side to the left side."
      ]
    },
    {
      "cell_type": "code",
      "execution_count": 16,
      "metadata": {
        "id": "_aGMIZ1WQ-YK",
        "colab": {
          "base_uri": "https://localhost:8080/"
        },
        "outputId": "6a5e5d30-104f-464a-c9ea-98a6c476c07c"
      },
      "outputs": [
        {
          "output_type": "stream",
          "name": "stdout",
          "text": [
            "1\n"
          ]
        }
      ],
      "source": [
        "# Assign 1 to x and print x\n",
        "x = 1\n",
        "print(x)"
      ]
    },
    {
      "cell_type": "markdown",
      "metadata": {
        "id": "YoWlbFPsQ-YK"
      },
      "source": [
        "Once a value is saved, it can be used multiple times and will remain until it is overwritten. Overwriting the value of a variable is called **reassignment**. When reassigning, you can write it in the same way as assigning. It is also possible to reassign using the variable itself."
      ]
    },
    {
      "cell_type": "code",
      "execution_count": 17,
      "metadata": {
        "collapsed": true,
        "id": "lFsr3_WjQ-YL",
        "colab": {
          "base_uri": "https://localhost:8080/"
        },
        "outputId": "973e6fff-9647-4808-9375-db4c34d8dc09"
      },
      "outputs": [
        {
          "output_type": "stream",
          "name": "stdout",
          "text": [
            "3\n"
          ]
        }
      ],
      "source": [
        "# Reassigning x+2 to x\n",
        "x = x + 2\n",
        "print(x)"
      ]
    },
    {
      "cell_type": "markdown",
      "metadata": {
        "id": "iKzYdJiyQ-YL"
      },
      "source": [
        "Let's explain the second line of the previous example. Here, we first calculate `x+2` on the right side, and then we perform the operation of assigning the result to `x` on the left side. At the point of calculating the right side, the value of `x` is 1, so the result of the calculation on the right side is 3, and this value 3 is assigned to `x` on the left side. In other words, you can interpret this as adding 2 to itself. This is a common practice to update variable values while progressing with calculations."
      ]
    },
    {
      "cell_type": "markdown",
      "metadata": {
        "id": "vEfhTDBFWlQa"
      },
      "source": [
        "## 1.6. Data Types"
      ]
    },
    {
      "cell_type": "markdown",
      "metadata": {
        "id": "LFdtwV5DWtEY"
      },
      "source": [
        "The types of values handled in a program are called **data types**. Major data types include int (integer), float (decimal), str (string), bool (boolean), and so on.\n",
        "\n",
        "|Data Type|Description|Example|\n",
        "|:-|:-|:-|\n",
        "|`int`|`Integer`|`1`|\n",
        "|`float`|`Decimal (Floating Point)`|`3.14`|\n",
        "|`str`|`Text Data (String)`|`'Python'`\n",
        "|`bool`|`Boolean`|`True`\n",
        "|`list`|`List`|`[0, 1, 2]`|\n",
        "\n",
        "You can examine the data type of a value assigned to a variable using the `type() `function. By inputting the variable in parentheses, the `type()` function will output the data type of the variable."
      ]
    },
    {
      "cell_type": "markdown",
      "metadata": {
        "id": "XQMISR-67Qz7"
      },
      "source": [
        "### 1.6.1. Numeric Values : int Type (Integer) and float Type (Decimal)\n",
        "\n",
        "There are two types for handling numeric values: **int** type and **float** type. When a decimal point is included in a number, it becomes a float type.\n",
        "\n",
        "When performing operations between int and float types or when dividing two int types, the output will be a float type."
      ]
    },
    {
      "cell_type": "code",
      "execution_count": 18,
      "metadata": {
        "id": "0J_FQBulvLAz",
        "colab": {
          "base_uri": "https://localhost:8080/"
        },
        "outputId": "858f9d60-5472-4b3b-9fb6-652e49d10718"
      },
      "outputs": [
        {
          "output_type": "stream",
          "name": "stdout",
          "text": [
            "<class 'int'>\n"
          ]
        }
      ],
      "source": [
        "# int type（integer）\n",
        "num = 1\n",
        "print(type(num))"
      ]
    },
    {
      "cell_type": "code",
      "execution_count": 19,
      "metadata": {
        "id": "K4CgvTt5vK4v",
        "colab": {
          "base_uri": "https://localhost:8080/"
        },
        "outputId": "f6705f05-470c-461b-a29d-866ac652a73d"
      },
      "outputs": [
        {
          "output_type": "stream",
          "name": "stdout",
          "text": [
            "<class 'float'>\n"
          ]
        }
      ],
      "source": [
        "# float type (decimal)\n",
        "num = 1.0\n",
        "print(type(num))"
      ]
    },
    {
      "cell_type": "code",
      "execution_count": 20,
      "metadata": {
        "id": "uZxY5absvKoQ",
        "colab": {
          "base_uri": "https://localhost:8080/"
        },
        "outputId": "3d02c9e9-dcf4-4957-9e2e-c3f59fbef874"
      },
      "outputs": [
        {
          "output_type": "stream",
          "name": "stdout",
          "text": [
            "<class 'float'>\n"
          ]
        }
      ],
      "source": [
        "# Calculation between int and float -> float type\n",
        "num = 1 + 1.0\n",
        "print(type(num))"
      ]
    },
    {
      "cell_type": "code",
      "execution_count": 21,
      "metadata": {
        "id": "nbcZ7h8v7dGH",
        "colab": {
          "base_uri": "https://localhost:8080/"
        },
        "outputId": "f50cbab1-147a-421c-b3b8-c939eb262b5e"
      },
      "outputs": [
        {
          "output_type": "stream",
          "name": "stdout",
          "text": [
            "<class 'float'>\n",
            "1.0\n"
          ]
        }
      ],
      "source": [
        "# Divide two int types\n",
        "num = 1 / 1\n",
        "print(type(num))\n",
        "print(num)"
      ]
    },
    {
      "cell_type": "markdown",
      "metadata": {
        "id": "2UuVEtnU7OV4"
      },
      "source": [
        "### 1.6.2. Text Data : str Type (String)"
      ]
    },
    {
      "cell_type": "markdown",
      "metadata": {
        "id": "X_JRU5DW-WWM"
      },
      "source": [
        "The `str` type is a data type that handles strings. When assigning a value to a variable as `str`, you enclose it in either single quotes `''` or double quotes `\"\"`. When the addition operator for numbers is applied to `str` types, it connects the strings. Also, the `len()` function can be used to determine the length of a string."
      ]
    },
    {
      "cell_type": "code",
      "execution_count": 22,
      "metadata": {
        "id": "J-14BOd_8as1",
        "colab": {
          "base_uri": "https://localhost:8080/"
        },
        "outputId": "f9dc545d-259f-4e10-d6ec-c876a103a99f"
      },
      "outputs": [
        {
          "output_type": "stream",
          "name": "stdout",
          "text": [
            "<class 'str'>\n",
            "Python\n"
          ]
        }
      ],
      "source": [
        "# Assigning a string\n",
        "string = 'Python'\n",
        "print(type(string))\n",
        "print(string)"
      ]
    },
    {
      "cell_type": "code",
      "execution_count": 23,
      "metadata": {
        "id": "L7HlrwErSrZB",
        "colab": {
          "base_uri": "https://localhost:8080/"
        },
        "outputId": "e5274ccb-aeb1-4b91-fe91-4c9bfb409cc3"
      },
      "outputs": [
        {
          "output_type": "stream",
          "name": "stdout",
          "text": [
            "Hello,World\n"
          ]
        }
      ],
      "source": [
        "str1 = 'Hello'\n",
        "str2 = 'World'\n",
        "print(str1 + \",\" + str2)  # Adding a comma between"
      ]
    },
    {
      "cell_type": "code",
      "execution_count": 24,
      "metadata": {
        "id": "3sMEf2PgT1cR",
        "colab": {
          "base_uri": "https://localhost:8080/"
        },
        "outputId": "6805192c-1641-4f70-a46c-7321cd0523cf"
      },
      "outputs": [
        {
          "output_type": "stream",
          "name": "stdout",
          "text": [
            "Hello Hello Hello \n"
          ]
        }
      ],
      "source": [
        "# Repeat\n",
        "text = \"Hello \"\n",
        "repeated = text * 3\n",
        "print(repeated)"
      ]
    },
    {
      "cell_type": "code",
      "execution_count": 25,
      "metadata": {
        "id": "o3fEs9IlSrOF",
        "colab": {
          "base_uri": "https://localhost:8080/"
        },
        "outputId": "0d9f11a7-717e-4b40-faf9-5bda9a194250"
      },
      "outputs": [
        {
          "output_type": "stream",
          "name": "stdout",
          "text": [
            "6\n"
          ]
        }
      ],
      "source": [
        "# Length of the string\n",
        "string = 'Python'\n",
        "print(len(string))"
      ]
    },
    {
      "cell_type": "code",
      "execution_count": 26,
      "metadata": {
        "id": "QNJHAL9wTIak",
        "colab": {
          "base_uri": "https://localhost:8080/"
        },
        "outputId": "830044f5-17a2-4e38-e6ea-ece5e6090a1a"
      },
      "outputs": [
        {
          "output_type": "stream",
          "name": "stdout",
          "text": [
            "A\n"
          ]
        }
      ],
      "source": [
        "# Get the first character\n",
        "text = \"Apple\"\n",
        "part = text[0]  # 0th index\n",
        "print(part)"
      ]
    },
    {
      "cell_type": "markdown",
      "metadata": {
        "id": "4-UYw0m16Whd"
      },
      "source": [
        "| Element of the string | A | p | p | l | e |\n",
        "|----------------------|---|---|---|---|---|\n",
        "| Index                | 0 | 1 | 2 | 3 | 4 |"
      ]
    },
    {
      "cell_type": "code",
      "execution_count": 27,
      "metadata": {
        "colab": {
          "base_uri": "https://localhost:8080/"
        },
        "id": "Oemc0B4YTCT9",
        "outputId": "7e183c9b-a566-4156-9dda-9a5a892befbf"
      },
      "outputs": [
        {
          "output_type": "stream",
          "name": "stdout",
          "text": [
            "App\n"
          ]
        }
      ],
      "source": [
        "# Extract a substring from a string\n",
        "text = \"Apple\"\n",
        "part = text[0:3]  # Characters from index 0 to 2 (index 3 is not included)\n",
        "print(part)"
      ]
    },
    {
      "cell_type": "markdown",
      "metadata": {
        "id": "2Zz7Ne487BH9"
      },
      "source": [
        "| Element of string | *A* | *p* | *p* | l | e |\n",
        "|--------------|---|---|---|---|---|\n",
        "| Index        | *0* | *1* | *2* | 3 | 4 |"
      ]
    },
    {
      "cell_type": "code",
      "execution_count": 28,
      "metadata": {
        "id": "uOLSm9BJfLWP",
        "colab": {
          "base_uri": "https://localhost:8080/"
        },
        "outputId": "b4506dff-7aed-4b75-8617-f72d6088cbf1"
      },
      "outputs": [
        {
          "output_type": "stream",
          "name": "stdout",
          "text": [
            "My name is Matsuo and I am 25 years old.\n"
          ]
        }
      ],
      "source": [
        "# f-string\n",
        "name = \"Matsuo\"\n",
        "age = 25\n",
        "message = f\"My name is {name} and I am {age} years old.\"   # You can embed variables inside {}.\n",
        "print(message)"
      ]
    },
    {
      "cell_type": "markdown",
      "metadata": {
        "id": "y3qGpLdg8Zap"
      },
      "source": [
        "### 1.6.3. bool Type (Boolean)\n",
        "\n",
        "The boolean data type has two values: True and False, representing true and false, respectively. Boolean data type is useful for conditional statements, similar to using \"yes\" and \"no\"."
      ]
    },
    {
      "cell_type": "code",
      "execution_count": 29,
      "metadata": {
        "id": "5UqSloLD8euf",
        "colab": {
          "base_uri": "https://localhost:8080/"
        },
        "outputId": "6b004374-6cbc-4fc3-ed15-0d236c72bd01"
      },
      "outputs": [
        {
          "output_type": "stream",
          "name": "stdout",
          "text": [
            "<class 'bool'>\n",
            "<class 'bool'>\n"
          ]
        }
      ],
      "source": [
        "yes = True\n",
        "print(type(yes))\n",
        "\n",
        "no = False\n",
        "print(type(no))"
      ]
    },
    {
      "cell_type": "markdown",
      "metadata": {
        "id": "S0Vn0M7e7qt5"
      },
      "source": [
        "### 1.6.4. Type Conversion\n",
        "\n",
        "Changing the data type of a value assigned to a variable is known as **type conversion**. The `int()` function is provided for converting to the int type. Additionally, there are other functions such as `float()`, `str()`, and `bool()`.\n",
        "\n",
        "When an int type is input into the `float()` function, only the integer part is output. Also, it is important to note that entering characters like 'abc' into int or `float()` functions will result in an error."
      ]
    },
    {
      "cell_type": "code",
      "execution_count": 30,
      "metadata": {
        "id": "wFVwyabEi-Cl",
        "colab": {
          "base_uri": "https://localhost:8080/"
        },
        "outputId": "cc4167ab-a921-484a-82a5-4c87c14640c5"
      },
      "outputs": [
        {
          "output_type": "stream",
          "name": "stdout",
          "text": [
            "3.14\n",
            "<class 'str'>\n"
          ]
        }
      ],
      "source": [
        "# str type\n",
        "x = '3.14'  # Not a numerical value but a string\n",
        "print(x)\n",
        "print(type(x))"
      ]
    },
    {
      "cell_type": "code",
      "execution_count": 31,
      "metadata": {
        "id": "CeY6x4Qzy6R9",
        "colab": {
          "base_uri": "https://localhost:8080/"
        },
        "outputId": "1fbe1ea8-7a14-40b5-90e9-e156fe056419"
      },
      "outputs": [
        {
          "output_type": "stream",
          "name": "stdout",
          "text": [
            "3.14\n",
            "<class 'float'>\n"
          ]
        }
      ],
      "source": [
        "# Converting from str type to float type\n",
        "y = float(x)\n",
        "print(y)\n",
        "print(type(y))"
      ]
    },
    {
      "cell_type": "code",
      "execution_count": 32,
      "metadata": {
        "id": "yOkr59Mjy6qA",
        "colab": {
          "base_uri": "https://localhost:8080/"
        },
        "outputId": "3f87c1dc-e63b-499e-832b-5d78c0ca7ad0"
      },
      "outputs": [
        {
          "output_type": "stream",
          "name": "stdout",
          "text": [
            "3\n",
            "<class 'int'>\n"
          ]
        }
      ],
      "source": [
        "# Convert from float to int\n",
        "z = int(y)\n",
        "print(z)\n",
        "print(type(z))"
      ]
    },
    {
      "cell_type": "markdown",
      "metadata": {
        "id": "RCMugELwkTYS"
      },
      "source": [
        "A useful feature is that boolean values can be converted to numbers.True becomes 1, and False becomes 0. Conversely, when converting numbers to boolean values, 0 becomes False, while any nonzero number becomes True."
      ]
    },
    {
      "cell_type": "code",
      "execution_count": 33,
      "metadata": {
        "id": "IVKl-kjwkWZo",
        "colab": {
          "base_uri": "https://localhost:8080/"
        },
        "outputId": "54bdd861-2846-43b8-fda6-bbcbd330b576"
      },
      "outputs": [
        {
          "output_type": "stream",
          "name": "stdout",
          "text": [
            "1\n"
          ]
        }
      ],
      "source": [
        "# Converting from bool to int\n",
        "# True  ->  int()   -> 1\n",
        "x = True\n",
        "print(int(x))"
      ]
    },
    {
      "cell_type": "code",
      "execution_count": 34,
      "metadata": {
        "id": "bzxJeo3qzt0o",
        "colab": {
          "base_uri": "https://localhost:8080/"
        },
        "outputId": "84e9e8c6-0350-4af5-f54e-3beb274d086b"
      },
      "outputs": [
        {
          "output_type": "stream",
          "name": "stdout",
          "text": [
            "0\n"
          ]
        }
      ],
      "source": [
        "# Converting from bool to int\n",
        "# False ->  int()   -> 0\n",
        "x = False\n",
        "print(int(x))"
      ]
    },
    {
      "cell_type": "code",
      "execution_count": 35,
      "metadata": {
        "id": "PH5jNKJnzuke",
        "colab": {
          "base_uri": "https://localhost:8080/"
        },
        "outputId": "bc93baa9-59c4-4502-bd4d-c908df629485"
      },
      "outputs": [
        {
          "output_type": "stream",
          "name": "stdout",
          "text": [
            "True\n"
          ]
        }
      ],
      "source": [
        "# Converting from int to bool\n",
        "# 2 -> bool() -> True\n",
        "print(bool(2))"
      ]
    },
    {
      "cell_type": "code",
      "execution_count": 36,
      "metadata": {
        "id": "RGgNzzSyzuVm",
        "colab": {
          "base_uri": "https://localhost:8080/"
        },
        "outputId": "8fde75d1-cf3d-4f9a-d130-2544f01f6fe1"
      },
      "outputs": [
        {
          "output_type": "stream",
          "name": "stdout",
          "text": [
            "False\n"
          ]
        }
      ],
      "source": [
        "# Convert from int to bool\n",
        "# 0.0 ->  bool()  -> False\n",
        "print(bool(0.0))"
      ]
    },
    {
      "cell_type": "code",
      "execution_count": 37,
      "metadata": {
        "id": "HPMoSpTYkdIk",
        "colab": {
          "base_uri": "https://localhost:8080/"
        },
        "outputId": "ba1f3143-a787-4691-d91e-af5dfc4e0ce6"
      },
      "outputs": [
        {
          "output_type": "stream",
          "name": "stdout",
          "text": [
            "True\n"
          ]
        }
      ],
      "source": [
        "# Variable num: Is it odd (cannot be divided by 2)? -> True for odd, False for even.\n",
        "x = 5\n",
        "is_odd = bool(x % 2)  # Since the remainder is not 0, it converts to True.\n",
        "print(is_odd)"
      ]
    },
    {
      "cell_type": "markdown",
      "metadata": {
        "id": "cs0ZJFp8SpAi"
      },
      "source": [
        "## 1.7. Practice Problems"
      ]
    },
    {
      "cell_type": "markdown",
      "metadata": {
        "id": "ffpMfZRwTeBK"
      },
      "source": [
        "(1-1) Write a program that outputs a string of your choice."
      ]
    },
    {
      "cell_type": "code",
      "execution_count": 39,
      "metadata": {
        "id": "FA8VSmAiT6VT",
        "colab": {
          "base_uri": "https://localhost:8080/"
        },
        "outputId": "b07d3112-60f8-44c1-c245-e56f485159cd"
      },
      "outputs": [
        {
          "output_type": "stream",
          "name": "stdout",
          "text": [
            "Hello World!\n"
          ]
        }
      ],
      "source": [
        "# WRITE ME!\n",
        "print(\"Hello World!\")"
      ]
    },
    {
      "cell_type": "markdown",
      "metadata": {
        "id": "0FvVJgTYEfOk"
      },
      "source": [
        "Example: When x=\"Hello\" and y=\"Mr. Matsuo\", print x+y."
      ]
    },
    {
      "cell_type": "code",
      "execution_count": 41,
      "metadata": {
        "id": "AWSwY05XExmH",
        "colab": {
          "base_uri": "https://localhost:8080/"
        },
        "outputId": "b6dc61a2-34f3-4caa-d414-6f647e556097"
      },
      "outputs": [
        {
          "output_type": "stream",
          "name": "stdout",
          "text": [
            "HelloMr.Matsuo\n"
          ]
        }
      ],
      "source": [
        "# WRITE ME!\n",
        "x = \"Hello\"\n",
        "y = \"Mr.Matsuo\"\n",
        "print(x+y)"
      ]
    },
    {
      "cell_type": "markdown",
      "metadata": {
        "id": "FOxNdKusT3aI"
      },
      "source": [
        "(1-2) Please write one or more programs performing any operations of your choice using arithmetic operators (+, -, *, /, %, **, //)."
      ]
    },
    {
      "cell_type": "code",
      "execution_count": 42,
      "metadata": {
        "id": "ggnbeXo6T68z",
        "colab": {
          "base_uri": "https://localhost:8080/"
        },
        "outputId": "1eed403f-c5b1-4d8b-ea4d-0ac8f3770606"
      },
      "outputs": [
        {
          "output_type": "stream",
          "name": "stdout",
          "text": [
            "171.5\n"
          ]
        }
      ],
      "source": [
        "# WRITE ME!\n",
        "print(3*7**3//3/2)"
      ]
    },
    {
      "cell_type": "markdown",
      "metadata": {
        "id": "DciJwR38FIXG"
      },
      "source": [
        "Example: Calculate the total price including 10% consumption tax when x = 2000 yen."
      ]
    },
    {
      "cell_type": "code",
      "execution_count": 43,
      "metadata": {
        "id": "acrWay33FUad",
        "colab": {
          "base_uri": "https://localhost:8080/"
        },
        "outputId": "728d3361-0fb4-4501-cd71-cbc174dbd1b4"
      },
      "outputs": [
        {
          "output_type": "stream",
          "name": "stdout",
          "text": [
            "2200.0\n"
          ]
        }
      ],
      "source": [
        "# WRITE ME!\n",
        "x = 2000\n",
        "y = x * 1.1\n",
        "print(y)"
      ]
    },
    {
      "cell_type": "markdown",
      "metadata": {
        "id": "tR9ziuZ-SwnM"
      },
      "source": [
        "(1-3) Let's assume that an integer is stored in the variable `x`. Create a program that will display (print) 0 if `x` is even, and 1 if `x` is odd."
      ]
    },
    {
      "cell_type": "code",
      "execution_count": 44,
      "metadata": {
        "id": "9vUf_IyfWERM"
      },
      "outputs": [],
      "source": [
        "x = 1 # Input example"
      ]
    },
    {
      "cell_type": "code",
      "execution_count": 95,
      "metadata": {
        "id": "xMbZryudWNHs",
        "colab": {
          "base_uri": "https://localhost:8080/"
        },
        "outputId": "70165ad6-2e2c-462c-8537-e8b2a89303dd"
      },
      "outputs": [
        {
          "output_type": "stream",
          "name": "stdout",
          "text": [
            "1\n"
          ]
        }
      ],
      "source": [
        "# WRITE ME!\n",
        "print(int(x%2))"
      ]
    },
    {
      "cell_type": "markdown",
      "metadata": {
        "id": "3-Wy5D9K0tkB"
      },
      "source": [
        "(1-4) Create a program to calculate BMI from height and weight. BMI = weight(kg) / (height(m))^2"
      ]
    },
    {
      "cell_type": "code",
      "execution_count": 49,
      "metadata": {
        "id": "dNipaCgS1swK",
        "colab": {
          "base_uri": "https://localhost:8080/"
        },
        "outputId": "cbb2656c-b858-46c3-bd84-0cfdef8fbcc0"
      },
      "outputs": [
        {
          "output_type": "stream",
          "name": "stdout",
          "text": [
            "18.36547291092746\n"
          ]
        }
      ],
      "source": [
        "# Input example\n",
        "weight = 50 # kg\n",
        "height = 165 # cm\n",
        "\n",
        "bmi = weight / ((height/100)**2)\n",
        "print(bmi)"
      ]
    },
    {
      "cell_type": "markdown",
      "metadata": {
        "id": "cf1Qx1S50Ffs"
      },
      "source": [
        "# Additional Information: Naming Variables"
      ]
    },
    {
      "cell_type": "markdown",
      "metadata": {
        "id": "RfQppwlRsE4k"
      },
      "source": [
        "You are free to choose variable names, but generally they are composed of alphabet letters, numbers and _ (underscore). While you can use single letters like a or b, using meaningful strings will make it easier for yourself and others to understand the contents of the variables. However, you need to be careful as there are some variable names that cannot be used. For example, you cannot use numbers at the beginning of a variable name. Also, words that are reserved in the program (e.g. class, if, for, etc.) cannot be used. The following are examples of variable names that are not allowed. If you try to execute with variable names like the ones below, an error will occur."
      ]
    },
    {
      "cell_type": "code",
      "execution_count": 50,
      "metadata": {
        "id": "I11omZxR1hmZ",
        "colab": {
          "base_uri": "https://localhost:8080/",
          "height": 106
        },
        "outputId": "b20393b2-533e-4151-b66d-a80095d8dbc1"
      },
      "outputs": [
        {
          "output_type": "error",
          "ename": "SyntaxError",
          "evalue": "invalid decimal literal (ipython-input-2492990346.py, line 5)",
          "traceback": [
            "\u001b[0;36m  File \u001b[0;32m\"/tmp/ipython-input-2492990346.py\"\u001b[0;36m, line \u001b[0;32m5\u001b[0m\n\u001b[0;31m    2024_data = 1000\u001b[0m\n\u001b[0m        ^\u001b[0m\n\u001b[0;31mSyntaxError\u001b[0m\u001b[0;31m:\u001b[0m invalid decimal literal\n"
          ]
        }
      ],
      "source": [
        "'''\n",
        "※Variables that cannot be used as variable names※\n",
        "'''\n",
        "# Variable name starts with a number\n",
        "2024_data = 1000"
      ]
    },
    {
      "cell_type": "code",
      "execution_count": 51,
      "metadata": {
        "id": "yY8Ck6em1p66"
      },
      "outputs": [],
      "source": [
        "class_name = 'A'"
      ]
    },
    {
      "cell_type": "markdown",
      "metadata": {
        "id": "ufAKZ65fztW2"
      },
      "source": [
        "You can verify reserved words by executing the following code:"
      ]
    },
    {
      "cell_type": "code",
      "execution_count": 52,
      "metadata": {
        "id": "FF4cbyILu2gn",
        "colab": {
          "base_uri": "https://localhost:8080/"
        },
        "outputId": "98118680-1440-4255-a813-8227520b10f3"
      },
      "outputs": [
        {
          "output_type": "stream",
          "name": "stdout",
          "text": [
            "['False', 'None', 'True', 'and', 'as', 'assert', 'async', 'await', 'break', 'class', 'continue', 'def', 'del', 'elif', 'else', 'except', 'finally', 'for', 'from', 'global', 'if', 'import', 'in', 'is', 'lambda', 'nonlocal', 'not', 'or', 'pass', 'raise', 'return', 'try', 'while', 'with', 'yield']\n"
          ]
        }
      ],
      "source": [
        "import keyword\n",
        "print(keyword.kwlist)"
      ]
    },
    {
      "cell_type": "markdown",
      "metadata": {
        "id": "MT-LXQVuiqk2"
      },
      "source": [
        "#2. Python Grammar II\n",
        "Related explanatory video: https://www.youtube.com/playlist?list=PLiEF5y87wtyyc3mVmmRpUcAi_a74w52CI"
      ]
    },
    {
      "cell_type": "markdown",
      "metadata": {
        "id": "if3SR428FJHD"
      },
      "source": [
        "## 2.1. Collections"
      ]
    },
    {
      "cell_type": "markdown",
      "metadata": {
        "id": "8KCiPq4WFWRU"
      },
      "source": [
        "In previous examples, we defined variable names and values on a one-to-one basis. On the other hand, Python provides collections that allow you to **store multiple values in a single variable**. Collections include lists and tuples that manage values in order, as well as dictionaries that manage values by keywords."
      ]
    },
    {
      "cell_type": "markdown",
      "metadata": {
        "id": "3WkHajCZGgM-"
      },
      "source": [
        "## 2.2. Lists"
      ]
    },
    {
      "cell_type": "markdown",
      "metadata": {
        "id": "hrQ9NBUBEO63"
      },
      "source": [
        "A **list** is a data type that can manage values in order. By using square brackets [ ], values can be assigned to variables by listing them with commas (,). Elements can include data types such as strings and numbers."
      ]
    },
    {
      "cell_type": "code",
      "execution_count": 53,
      "metadata": {
        "id": "vigZZu7IINKd"
      },
      "outputs": [],
      "source": [
        "menu = ['Salad', 'Soup', 'Steak', 'Cake']"
      ]
    },
    {
      "cell_type": "markdown",
      "metadata": {
        "id": "5MjcOlQRIiU-"
      },
      "source": [
        "Each value in a list is called an **element** , and the order of the elements is referred to as the **index**. The index starts at 0 for the first element, and increases sequentially as 1, 2, 3, and so on. It is also possible to count from the last element, starting with -1, -2, -3, and counting back to the first element. By specifying the index in square brackets after the variable name of the list, it is possible to extract or replace elements."
      ]
    },
    {
      "cell_type": "code",
      "execution_count": 54,
      "metadata": {
        "id": "1BiJTwpWIGcv",
        "colab": {
          "base_uri": "https://localhost:8080/"
        },
        "outputId": "0f1936b0-783d-4faf-f673-962b93702649"
      },
      "outputs": [
        {
          "output_type": "stream",
          "name": "stdout",
          "text": [
            "Soup\n"
          ]
        }
      ],
      "source": [
        "# Extracting the second element of the list\n",
        "print(menu[1])"
      ]
    },
    {
      "cell_type": "code",
      "source": [
        "# Extracting the last element of the list\n",
        "print(menu[-1])"
      ],
      "metadata": {
        "id": "6qm_rbitfVMb",
        "colab": {
          "base_uri": "https://localhost:8080/"
        },
        "outputId": "4283cfca-be67-4138-cc41-d39a7aa30c8a"
      },
      "execution_count": 55,
      "outputs": [
        {
          "output_type": "stream",
          "name": "stdout",
          "text": [
            "Cake\n"
          ]
        }
      ]
    },
    {
      "cell_type": "code",
      "execution_count": 56,
      "metadata": {
        "id": "WvK1WmgNtnY_",
        "colab": {
          "base_uri": "https://localhost:8080/"
        },
        "outputId": "0d1f1391-435e-441b-e246-b5cf69c63435"
      },
      "outputs": [
        {
          "output_type": "stream",
          "name": "stdout",
          "text": [
            "['Salad', 'Soup', 'Steak', 'pudding']\n"
          ]
        }
      ],
      "source": [
        "# Change the last element of the list\n",
        "menu[-1] = 'pudding'\n",
        "print(menu)"
      ]
    },
    {
      "cell_type": "markdown",
      "metadata": {
        "id": "h10cLiMGLA5H"
      },
      "source": [
        "You can extract a portion of a list by specifying an index range which is called **slicing**. Similar to extracting elements, you can use square brackets after the list variable name, with the starting index on the left side of the colon (:) and the ending index on the right side. In this case, the starting point is included in the slice, but the ending point is not. For example, the slice notation [x:y] represents indices greater than or equal to x, but less than y. If x or y is omitted, the selection continues to the remaining range.  \n",
        "A good way to learn how to use slicing is to consider indices pointing between elements, with the leftmost element starting at 0, as described in the Python tutorial.  \n",
        "You can imagine it as shown in the diagram below."
      ]
    },
    {
      "cell_type": "markdown",
      "source": [
        "![スクリーンショット 2024-12-25 160211.png](data:image/png;base64,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)"
      ],
      "metadata": {
        "id": "Q8ocxbf_ym6L"
      }
    },
    {
      "cell_type": "markdown",
      "metadata": {
        "id": "hvY5r-S6oIM5"
      },
      "source": [
        "(Reference)(Python Tutorial): https://docs.python.org/3/tutorial/introduction.html#strings"
      ]
    },
    {
      "cell_type": "code",
      "execution_count": 57,
      "metadata": {
        "id": "61EdSX84FFDT"
      },
      "outputs": [],
      "source": [
        "# Assigning a list of numbers\n",
        "numbers = [10, 20, 30, 40, 50]"
      ]
    },
    {
      "cell_type": "markdown",
      "metadata": {
        "id": "lNg-6zboJfJ9"
      },
      "source": [
        "| Element in the list | 10 | 20 | 30 | 40 | 50 |\n",
        "|------------------|----|----|----|----|----|\n",
        "| Index            | 0  | 1  | 2  | 3  | 4  |"
      ]
    },
    {
      "cell_type": "code",
      "execution_count": 58,
      "metadata": {
        "id": "li5so6GZJnhl",
        "colab": {
          "base_uri": "https://localhost:8080/"
        },
        "outputId": "4d727746-bcf8-45a3-98f9-4982e6d03616"
      },
      "outputs": [
        {
          "output_type": "stream",
          "name": "stdout",
          "text": [
            "[10, 20]\n"
          ]
        }
      ],
      "source": [
        "# Example of slicing\n",
        "print(numbers[0:2])"
      ]
    },
    {
      "cell_type": "code",
      "execution_count": 59,
      "metadata": {
        "id": "DIJhKWkuIILV",
        "colab": {
          "base_uri": "https://localhost:8080/"
        },
        "outputId": "f8d88070-377b-4bf7-de04-b7030898d268"
      },
      "outputs": [
        {
          "output_type": "stream",
          "name": "stdout",
          "text": [
            "[20, 30]\n"
          ]
        }
      ],
      "source": [
        "# Specify a start and end point for a slice\n",
        "print(numbers[1:3])"
      ]
    },
    {
      "cell_type": "code",
      "execution_count": 60,
      "metadata": {
        "id": "y8ro6-GjIIEg",
        "colab": {
          "base_uri": "https://localhost:8080/"
        },
        "outputId": "c4886b93-9f18-4ae1-ff9a-06ffb82b4b26"
      },
      "outputs": [
        {
          "output_type": "stream",
          "name": "stdout",
          "text": [
            "[10, 20, 30, 40]\n"
          ]
        }
      ],
      "source": [
        "# When only the end point is specified in the slice\n",
        "print(numbers[:-1])"
      ]
    },
    {
      "cell_type": "code",
      "execution_count": 61,
      "metadata": {
        "id": "FGTEMq3xIIBo",
        "colab": {
          "base_uri": "https://localhost:8080/"
        },
        "outputId": "d5831c81-c172-4b36-c2e7-2c78c2424a10"
      },
      "outputs": [
        {
          "output_type": "stream",
          "name": "stdout",
          "text": [
            "[10, 20, 30, 40, 50]\n"
          ]
        }
      ],
      "source": [
        "# Slice without specifying indices (all elements)\n",
        "print(numbers[:])"
      ]
    },
    {
      "cell_type": "markdown",
      "metadata": {
        "id": "XesLEJthNqh4"
      },
      "source": [
        "When you want to add or remove elements in a list, you can use the dot `.` following the variable name of the list, followed by **append (to add elements at the end)** or **remove (to delete elements)**. When using remove and there are duplicate elements in the list, the first occurrence of the element will be removed."
      ]
    },
    {
      "cell_type": "code",
      "execution_count": 62,
      "metadata": {
        "id": "zBy25_cnE11Y"
      },
      "outputs": [],
      "source": [
        "menu = ['salad', 'soup', 'steak', 'cake']"
      ]
    },
    {
      "cell_type": "code",
      "execution_count": 63,
      "metadata": {
        "id": "A1DXHqm6tyf-",
        "colab": {
          "base_uri": "https://localhost:8080/"
        },
        "outputId": "1775276d-5b75-4c30-b66d-1c3d2b005443"
      },
      "outputs": [
        {
          "output_type": "stream",
          "name": "stdout",
          "text": [
            "['salad', 'soup', 'steak', 'cake', 'pudding']\n"
          ]
        }
      ],
      "source": [
        "# Add an element\n",
        "menu.append('pudding')\n",
        "print(menu)"
      ]
    },
    {
      "cell_type": "code",
      "execution_count": 64,
      "metadata": {
        "id": "n1-C8Lp6t0cI",
        "colab": {
          "base_uri": "https://localhost:8080/"
        },
        "outputId": "2d2b57d9-42c3-4739-ab19-3c1673bd04da"
      },
      "outputs": [
        {
          "output_type": "stream",
          "name": "stdout",
          "text": [
            "['salad', 'steak', 'cake', 'pudding']\n"
          ]
        }
      ],
      "source": [
        "# Remove element\n",
        "menu.remove('soup')\n",
        "print(menu)"
      ]
    },
    {
      "cell_type": "markdown",
      "metadata": {
        "id": "cOGj9UaaQCxX"
      },
      "source": [
        "In Python, convenient functions for numerical calculations with lists are provided. In Python's built-in functions, you can perform calculations by inserting values inside the parentheses after the function name. The \"len\" in `len()` is an abbreviation for \"length\" and is commonly used with other data types as well."
      ]
    },
    {
      "cell_type": "code",
      "execution_count": 65,
      "metadata": {
        "id": "S8r-QKeYQCXF"
      },
      "outputs": [],
      "source": [
        "# List of numerical values\n",
        "score = [40, 60, 80]"
      ]
    },
    {
      "cell_type": "code",
      "execution_count": 66,
      "metadata": {
        "id": "98JqjKRaNw0r",
        "colab": {
          "base_uri": "https://localhost:8080/"
        },
        "outputId": "d64ce05f-2f62-4946-c651-209a348c8891"
      },
      "outputs": [
        {
          "output_type": "stream",
          "name": "stdout",
          "text": [
            "3\n"
          ]
        }
      ],
      "source": [
        "# Output the number of elements in the list\n",
        "print(len(score))"
      ]
    },
    {
      "cell_type": "code",
      "execution_count": 67,
      "metadata": {
        "id": "Ktuj-S2DNvfH",
        "colab": {
          "base_uri": "https://localhost:8080/"
        },
        "outputId": "15e12990-60b4-4efb-d210-7ee6fbf879d1"
      },
      "outputs": [
        {
          "output_type": "stream",
          "name": "stdout",
          "text": [
            "180\n"
          ]
        }
      ],
      "source": [
        "# Print the sum of the list of numbers\n",
        "print(sum(score))"
      ]
    },
    {
      "cell_type": "code",
      "execution_count": 68,
      "metadata": {
        "id": "6F--2Fo2NvTK",
        "colab": {
          "base_uri": "https://localhost:8080/"
        },
        "outputId": "db14ab18-128c-4ada-9d72-edde303d5aa8"
      },
      "outputs": [
        {
          "output_type": "stream",
          "name": "stdout",
          "text": [
            "60.0\n"
          ]
        }
      ],
      "source": [
        "# Calculate the average of a list of numbers\n",
        "print(sum(score)/len(score))"
      ]
    },
    {
      "cell_type": "code",
      "execution_count": 69,
      "metadata": {
        "id": "rgyNdt_LNvIf",
        "colab": {
          "base_uri": "https://localhost:8080/"
        },
        "outputId": "66a2f6eb-355e-4cb9-ad5d-340262843d5f"
      },
      "outputs": [
        {
          "output_type": "stream",
          "name": "stdout",
          "text": [
            "80\n"
          ]
        }
      ],
      "source": [
        "# Output the maximum value of a numerical list\n",
        "print(max(score))"
      ]
    },
    {
      "cell_type": "code",
      "execution_count": 70,
      "metadata": {
        "id": "pPoDxmDn0Byn",
        "colab": {
          "base_uri": "https://localhost:8080/"
        },
        "outputId": "c963103a-caf7-4877-f972-e5c6e2f23c16"
      },
      "outputs": [
        {
          "output_type": "stream",
          "name": "stdout",
          "text": [
            "40\n"
          ]
        }
      ],
      "source": [
        "# Output the minimum value of a list of numbers\n",
        "print(min(score))"
      ]
    },
    {
      "cell_type": "markdown",
      "metadata": {
        "id": "cQPlIVtMRyDl"
      },
      "source": [
        "Lists can manage two-dimensional tabular data using double square brackets. You can extract elements or lists by specifying row and column numbers. It is also possible to create lists of three or more dimensions."
      ]
    },
    {
      "cell_type": "code",
      "execution_count": 71,
      "metadata": {
        "id": "oIigoywLClp8"
      },
      "outputs": [],
      "source": [
        "# Assigning a 2D list\n",
        "table = [['24/3', '24/4', '24/5'], [80, 100, 90]]"
      ]
    },
    {
      "cell_type": "markdown",
      "metadata": {
        "id": "bmiKMUPLuwBw"
      },
      "source": [
        "|        |       |(**Column 0**)|**(Column 1)**|**(Column 2)**|\n",
        "|--------|--------|------|------|------|\n",
        "|**(Row 0)** | Date   | 3/24 | 4/24 | 5/24 |\n",
        "|**(Row 1)** | Score  | 80   | 100  | 90   |"
      ]
    },
    {
      "cell_type": "code",
      "execution_count": 72,
      "metadata": {
        "id": "Cf6DdMEpupag",
        "colab": {
          "base_uri": "https://localhost:8080/"
        },
        "outputId": "0acc059c-a5eb-467f-f9ae-5c9440530838"
      },
      "outputs": [
        {
          "output_type": "stream",
          "name": "stdout",
          "text": [
            "24/5\n"
          ]
        }
      ],
      "source": [
        "# Extracting element at row 0, column 2\n",
        "print(table[0][2])"
      ]
    },
    {
      "cell_type": "code",
      "execution_count": 73,
      "metadata": {
        "id": "Si-vuCdyupNc",
        "colab": {
          "base_uri": "https://localhost:8080/"
        },
        "outputId": "88dae3d9-cd6e-41b6-dece-fa7c91afcb22"
      },
      "outputs": [
        {
          "output_type": "stream",
          "name": "stdout",
          "text": [
            "100\n"
          ]
        }
      ],
      "source": [
        "# Extracting element at row 1 column 1\n",
        "print(table[1][1])"
      ]
    },
    {
      "cell_type": "markdown",
      "metadata": {
        "id": "PrRSCZ8pQ-YU"
      },
      "source": [
        "## 2.3. Tuples"
      ]
    },
    {
      "cell_type": "markdown",
      "metadata": {
        "id": "y5ElLedjQ-YU"
      },
      "source": [
        "A tuple, like a list, is a collection of multiple elements and is called a **tuple** in other programming languages.\n",
        "\n",
        "In Python, data is stored in the form of `(element, element, ...)` for tuples."
      ]
    },
    {
      "cell_type": "code",
      "execution_count": 74,
      "metadata": {
        "id": "Joe1d6SQQ-YU",
        "colab": {
          "base_uri": "https://localhost:8080/"
        },
        "outputId": "627cdabb-2308-4582-9ca4-71ec53e2938f"
      },
      "outputs": [
        {
          "output_type": "stream",
          "name": "stdout",
          "text": [
            "(1, 2, 3)\n"
          ]
        }
      ],
      "source": [
        "# Double\n",
        "x = (1, 2, 3)\n",
        "print(x)"
      ]
    },
    {
      "cell_type": "markdown",
      "metadata": {
        "id": "m92-pjaAQ-YU"
      },
      "source": [
        "When it comes to grouping the same type of data together, lists are commonly used, while tuples are often used to group different types of data. Although tuples have a similar data structure to lists and can perform similar operations, there are subtle differences between the two. In the following sections, we will learn about tuples by comparing their similarities and differences with lists."
      ]
    },
    {
      "cell_type": "markdown",
      "metadata": {
        "id": "sSwAGJX8Q-YV"
      },
      "source": [
        "In tuples, like in lists, you can access elements using indices.\n",
        "\n",
        "| Tuple Element | 1   | 2.0 | '3' |\n",
        "|---------------|-----|-----|-----|\n",
        "| Index         | 0   | 1   | 2   |"
      ]
    },
    {
      "cell_type": "code",
      "execution_count": 75,
      "metadata": {
        "id": "kfA4FaxwQ-YV",
        "colab": {
          "base_uri": "https://localhost:8080/"
        },
        "outputId": "b0a44c8d-8660-4a80-f721-194b9ae5b00e"
      },
      "outputs": [
        {
          "output_type": "stream",
          "name": "stdout",
          "text": [
            "1\n"
          ]
        }
      ],
      "source": [
        "# Get the reference of elements\n",
        "x = (1, 2.0, '3')\n",
        "print(x[0])"
      ]
    },
    {
      "cell_type": "code",
      "execution_count": 76,
      "metadata": {
        "id": "IMwgD7fSQ-YV",
        "colab": {
          "base_uri": "https://localhost:8080/"
        },
        "outputId": "dcb172aa-670f-427b-e878-c4bb2503e597"
      },
      "outputs": [
        {
          "output_type": "stream",
          "name": "stdout",
          "text": [
            "(1, 2.0)\n"
          ]
        }
      ],
      "source": [
        "# Slice (reference)\n",
        "x = (1, 2.0, '3')\n",
        "print(x[0:2])"
      ]
    },
    {
      "cell_type": "markdown",
      "metadata": {
        "id": "Qsfi87D5Q-YV"
      },
      "source": [
        "However, you cannot assign elements to a tuple. Unlike lists, once defined, tuples do not allow modifications such as adding or removing elements. While lists are mutable, meaning they can be changed, it is important to note that tuples are immutable, meaning they cannot be changed."
      ]
    },
    {
      "cell_type": "code",
      "execution_count": 77,
      "metadata": {
        "id": "UpJ9KJczB6Pk",
        "colab": {
          "base_uri": "https://localhost:8080/",
          "height": 159
        },
        "outputId": "5e74a10c-c326-4432-e39c-6bc1ec03b572"
      },
      "outputs": [
        {
          "output_type": "error",
          "ename": "TypeError",
          "evalue": "'tuple' object does not support item assignment",
          "traceback": [
            "\u001b[0;31m---------------------------------------------------------------------------\u001b[0m",
            "\u001b[0;31mTypeError\u001b[0m                                 Traceback (most recent call last)",
            "\u001b[0;32m/tmp/ipython-input-3377619614.py\u001b[0m in \u001b[0;36m<cell line: 0>\u001b[0;34m()\u001b[0m\n\u001b[1;32m      1\u001b[0m \u001b[0mx\u001b[0m \u001b[0;34m=\u001b[0m \u001b[0;34m(\u001b[0m\u001b[0;36m1\u001b[0m\u001b[0;34m,\u001b[0m \u001b[0;36m2.0\u001b[0m\u001b[0;34m,\u001b[0m \u001b[0;34m'3'\u001b[0m\u001b[0;34m)\u001b[0m\u001b[0;34m\u001b[0m\u001b[0;34m\u001b[0m\u001b[0m\n\u001b[0;32m----> 2\u001b[0;31m \u001b[0mx\u001b[0m\u001b[0;34m[\u001b[0m\u001b[0;36m1\u001b[0m\u001b[0;34m]\u001b[0m \u001b[0;34m=\u001b[0m \u001b[0;36m3.0\u001b[0m\u001b[0;34m\u001b[0m\u001b[0;34m\u001b[0m\u001b[0m\n\u001b[0m",
            "\u001b[0;31mTypeError\u001b[0m: 'tuple' object does not support item assignment"
          ]
        }
      ],
      "source": [
        "x = (1, 2.0, '3')\n",
        "x[1] = 3.0"
      ]
    },
    {
      "cell_type": "markdown",
      "metadata": {
        "id": "eS04vn8XQ-YV"
      },
      "source": [
        "Actually, you can omit the parentheses when creating a tuple. Therefore, the following two examples can be considered the same code."
      ]
    },
    {
      "cell_type": "code",
      "execution_count": 78,
      "metadata": {
        "id": "Thd1ZVCvQ-YV",
        "colab": {
          "base_uri": "https://localhost:8080/"
        },
        "outputId": "708bbe85-6150-4ae1-f026-099c28ed08f2"
      },
      "outputs": [
        {
          "output_type": "stream",
          "name": "stdout",
          "text": [
            "(1, 2.0, '3')\n"
          ]
        }
      ],
      "source": [
        "# Example 1 using parentheses\n",
        "x = (1, 2.0, '3')\n",
        "print(x)"
      ]
    },
    {
      "cell_type": "code",
      "execution_count": 79,
      "metadata": {
        "id": "i4F3wdS-Q-YV",
        "colab": {
          "base_uri": "https://localhost:8080/"
        },
        "outputId": "b3e26547-e365-496b-b450-c24211a0ce0e"
      },
      "outputs": [
        {
          "output_type": "stream",
          "name": "stdout",
          "text": [
            "(1, 2.0, '3')\n"
          ]
        }
      ],
      "source": [
        "# Example 2: Omitting parentheses\n",
        "x = 1, 2.0, '3'\n",
        "print(x)"
      ]
    },
    {
      "cell_type": "markdown",
      "metadata": {
        "id": "rAKhwjTuQ-YV"
      },
      "source": [
        "Example 2 can also be thought of as assigning multiple values to a single variable. This is called **multiple assignment**. There are related terms such as **packing** and **unpacking**, but we will leave the introduction of these terms here for now. If you are interested in learning more advanced content, it would be good to look up these terms."
      ]
    },
    {
      "cell_type": "markdown",
      "metadata": {
        "id": "sYl--hUwQ-YV"
      },
      "source": [
        "## 2.4. Dictionaries"
      ]
    },
    {
      "cell_type": "markdown",
      "metadata": {
        "id": "bLrvmhMSQ-YW"
      },
      "source": [
        "A dictionary is a collection that associates a label called a **key** with each element of a list, known as an **associative array** in other programming languages.\n",
        "\n",
        "In Python, data is stored in the format `{<key>: <value>, ...}`."
      ]
    },
    {
      "cell_type": "code",
      "execution_count": 80,
      "metadata": {
        "id": "0bbEV3SUQ-YW",
        "colab": {
          "base_uri": "https://localhost:8080/"
        },
        "outputId": "d3bda4f1-e0b9-430e-fcef-28ca58f42cec"
      },
      "outputs": [
        {
          "output_type": "stream",
          "name": "stdout",
          "text": [
            "{'apple': 100, 'banana': 80, 'orange': 120}\n"
          ]
        }
      ],
      "source": [
        "# Dictionary\n",
        "menu = {'apple':100, 'banana':80, 'orange':120}\n",
        "print(menu)"
      ]
    },
    {
      "cell_type": "markdown",
      "metadata": {
        "id": "7VykTOOzQ-YW"
      },
      "source": [
        "In lists, we access each element by index, while in dictionaries, we access values using keys. Similar to lists, we can reference and assign values."
      ]
    },
    {
      "cell_type": "code",
      "execution_count": 81,
      "metadata": {
        "id": "8YPyLxOqQ-YW",
        "colab": {
          "base_uri": "https://localhost:8080/"
        },
        "outputId": "5f9a361e-5699-4103-eec1-57c27a0929f2"
      },
      "outputs": [
        {
          "output_type": "stream",
          "name": "stdout",
          "text": [
            "100\n"
          ]
        }
      ],
      "source": [
        "# Accessing elements\n",
        "print(menu['apple'])"
      ]
    },
    {
      "cell_type": "markdown",
      "metadata": {
        "id": "wFOghoToQ-YW"
      },
      "source": [
        "If you assign a value to a key that is not in the dictionary, it will be added as a new element."
      ]
    },
    {
      "cell_type": "code",
      "execution_count": 82,
      "metadata": {
        "id": "4ptDXzSAQ-YW",
        "colab": {
          "base_uri": "https://localhost:8080/"
        },
        "outputId": "d1afc928-fa62-4414-c846-bad25a74483b"
      },
      "outputs": [
        {
          "output_type": "stream",
          "name": "stdout",
          "text": [
            "{'apple': 100, 'banana': 80, 'orange': 120, 'grape': 150}\n"
          ]
        }
      ],
      "source": [
        "# Add a key and value\n",
        "menu['grape'] = 150\n",
        "print(menu)"
      ]
    },
    {
      "cell_type": "markdown",
      "source": [
        "And to get rid of an item, we use the `del` statement with the key we want to remove."
      ],
      "metadata": {
        "id": "KmVN5KpPj2fK"
      }
    },
    {
      "cell_type": "code",
      "source": [
        "# Remove a key and value\n",
        "del menu['apple']\n",
        "print(menu)"
      ],
      "metadata": {
        "id": "SiqUjzqgkAum",
        "colab": {
          "base_uri": "https://localhost:8080/"
        },
        "outputId": "d80bc20c-9bee-4323-b958-c5ba2283b441"
      },
      "execution_count": 83,
      "outputs": [
        {
          "output_type": "stream",
          "name": "stdout",
          "text": [
            "{'banana': 80, 'orange': 120, 'grape': 150}\n"
          ]
        }
      ]
    },
    {
      "cell_type": "markdown",
      "metadata": {
        "id": "S0Ius8vhQ-YW"
      },
      "source": [
        "There are also ways to retrieve keys, values, and entire elements from a dictionary.\n",
        "\n",
        "We can use the dictionary's `keys()` method, `values()` method, and `items()` method."
      ]
    },
    {
      "cell_type": "code",
      "execution_count": 84,
      "metadata": {
        "id": "Duy-DfEDQ-YX",
        "colab": {
          "base_uri": "https://localhost:8080/"
        },
        "outputId": "f67887e2-6579-4133-c4e8-314d1f5c5f7e"
      },
      "outputs": [
        {
          "output_type": "stream",
          "name": "stdout",
          "text": [
            "dict_keys(['a', 'b', 'c'])\n"
          ]
        }
      ],
      "source": [
        "# Get keys\n",
        "x = {'a': 1, 'b': 2, 'c': 3}\n",
        "print(x.keys())"
      ]
    },
    {
      "cell_type": "code",
      "execution_count": 85,
      "metadata": {
        "id": "nlKmAxjuQ-YX",
        "colab": {
          "base_uri": "https://localhost:8080/"
        },
        "outputId": "038e8284-6bd6-493a-dfc8-37a2c18f7f72"
      },
      "outputs": [
        {
          "output_type": "stream",
          "name": "stdout",
          "text": [
            "dict_values([1, 2, 3])\n"
          ]
        }
      ],
      "source": [
        "# Get elements\n",
        "x = {'a': 1, 'b': 2, 'c': 3}\n",
        "print(x.values())"
      ]
    },
    {
      "cell_type": "code",
      "execution_count": 86,
      "metadata": {
        "id": "c6iqd2R8FI7_",
        "colab": {
          "base_uri": "https://localhost:8080/"
        },
        "outputId": "de4f0faa-ddf8-4fcd-c8b1-2c0be661e644"
      },
      "outputs": [
        {
          "output_type": "stream",
          "name": "stdout",
          "text": [
            "dict_items([('a', 1), ('b', 2), ('c', 3)])\n"
          ]
        }
      ],
      "source": [
        "x = {'a': 1, 'b': 2, 'c': 3}\n",
        "print(x.items())"
      ]
    },
    {
      "cell_type": "markdown",
      "metadata": {
        "id": "oEMN0v_IWG0X"
      },
      "source": [
        "## 2.5 Practice Problems"
      ]
    },
    {
      "cell_type": "markdown",
      "metadata": {
        "id": "wgDq4wueWK7z"
      },
      "source": [
        "(2-1) Write a list that includes all prime numbers less than 10."
      ]
    },
    {
      "cell_type": "code",
      "execution_count": 90,
      "metadata": {
        "id": "Rzc6_cwqsYd9",
        "colab": {
          "base_uri": "https://localhost:8080/"
        },
        "outputId": "4d96494c-a63b-4c55-f4cf-09ab88d585a0"
      },
      "outputs": [
        {
          "output_type": "stream",
          "name": "stdout",
          "text": [
            "[2, 3, 5, 7]\n"
          ]
        }
      ],
      "source": [
        "prime_number_less_10_list = [2, 3, 5, 7]\n",
        "print(prime_number_less_10_list)"
      ]
    },
    {
      "cell_type": "markdown",
      "source": [
        "(2-2) Write a tuple that includes all prime numbers less than 10.\n"
      ],
      "metadata": {
        "id": "ETz7i27T0nH_"
      }
    },
    {
      "cell_type": "code",
      "execution_count": 89,
      "metadata": {
        "id": "mPlqYvrhsZkD",
        "colab": {
          "base_uri": "https://localhost:8080/"
        },
        "outputId": "b5e185c6-0ad2-4b0c-f368-c346ba387791"
      },
      "outputs": [
        {
          "output_type": "stream",
          "name": "stdout",
          "text": [
            "(2, 3, 5, 7)\n"
          ]
        }
      ],
      "source": [
        "prime_number_less_10_tuple = (2, 3, 5, 7)\n",
        "print(prime_number_less_10_tuple)"
      ]
    },
    {
      "cell_type": "markdown",
      "source": [
        "(2-3) Write a dictionary whose key is the string `'name'` and whose value is a string containing your own name."
      ],
      "metadata": {
        "id": "KocioAuF0x_1"
      }
    },
    {
      "cell_type": "code",
      "execution_count": 91,
      "metadata": {
        "id": "3aGCB8THsfMn",
        "colab": {
          "base_uri": "https://localhost:8080/"
        },
        "outputId": "c7a080b8-8baa-4978-b685-e9c5d0fb4c50"
      },
      "outputs": [
        {
          "output_type": "stream",
          "name": "stdout",
          "text": [
            "{'name': 'Viet'}\n"
          ]
        }
      ],
      "source": [
        "dir = {'name': 'Viet'}\n",
        "print(dir)"
      ]
    },
    {
      "cell_type": "markdown",
      "metadata": {
        "id": "j9Z6_Wm2i1O3"
      },
      "source": [
        "# 3. Python Grammar III\n",
        "Related Explanation Video: https://www.youtube.com/playlist?list=PLiEF5y87wtyyc3mVmmRpUcAi_a74w52CI"
      ]
    },
    {
      "cell_type": "markdown",
      "metadata": {
        "id": "ACeegK-DZjIN"
      },
      "source": [
        "## 3.1. Conditional Branching (if Statement)"
      ]
    },
    {
      "cell_type": "markdown",
      "metadata": {
        "id": "O8qI4oAoZjIO"
      },
      "source": [
        "Conditional branching is a feature in a program where the flow of processing is altered based on certain conditions. If a particular condition is true, certain actions are taken, and if false, alternate actions are executed.\n",
        "\n",
        "In Python, this is expressed using `if`, `elif`, and `else`. The format is shown below:\n",
        "\n",
        "```python\n",
        "if <condition0>:\n",
        "    <(actions to be performed when condition0 is True)>\n",
        "elif <condition1>:\n",
        "    <(actions to be performed when condition0 is False and condition1 is True)>\n",
        "else:\n",
        "    <(actions to be performed when all conditions are False)>\n",
        "```\n",
        "\n",
        "The `if` statement executes actions if the condition is `True`. You can add an `else` clause to specify code that runs when the condition is `False`. Furthermore, if you want to specify multiple conditions, you can use `elif` clauses in conjunction. You can have multiple `elif` clauses as needed.\n",
        "\n",
        "It is important to note that **you must indent four spaces before the actions (to be performed when the condition is True/False)**. In Python, this is referred to as **indentation**. Incorrect indentation leads to an error."
      ]
    },
    {
      "cell_type": "markdown",
      "metadata": {
        "id": "zbGUNjoMZfiC"
      },
      "source": [
        "Let's take a look at an example. In the example below, we calculate the absolute value of the variable `x` and store the result in `y`."
      ]
    },
    {
      "cell_type": "code",
      "execution_count": 92,
      "metadata": {
        "id": "khNI2pZCZjIO",
        "colab": {
          "base_uri": "https://localhost:8080/"
        },
        "outputId": "28eb3d31-5a13-4d32-b6cf-1f27568dceac"
      },
      "outputs": [
        {
          "output_type": "stream",
          "name": "stdout",
          "text": [
            "1\n"
          ]
        }
      ],
      "source": [
        "# Calculate the absolute value\n",
        "x = -1\n",
        "if x < 0:\n",
        "    y = -x\n",
        "else:\n",
        "    y = x\n",
        "\n",
        "print(y)"
      ]
    },
    {
      "cell_type": "markdown",
      "metadata": {
        "id": "Byg2PaaaZfiD"
      },
      "source": [
        "While not explicitly stated above, it is also possible to execute multiple consecutive processes. In this case, you need to insert an indent before each of those processes. In programming, a grouping of processes is generally referred to as a **block**, and in Python, any section with an inserted indent is considered a block and processed as such.\n",
        "\n",
        "The following two examples may appear similar, but they are actually completely different codes. Pay attention to the indentation and see how it affects the code."
      ]
    },
    {
      "cell_type": "code",
      "execution_count": 93,
      "metadata": {
        "id": "0YgjFTMTZfiD",
        "colab": {
          "base_uri": "https://localhost:8080/"
        },
        "outputId": "8fb8a2e2-719d-494e-f627-8e32c8a3e0ad"
      },
      "outputs": [
        {
          "output_type": "stream",
          "name": "stdout",
          "text": [
            "1\n"
          ]
        }
      ],
      "source": [
        "# Example 1 *Note the indentation level\n",
        "x = 1\n",
        "if x < 0:\n",
        "    x = - x\n",
        "    x = - x\n",
        "print(x)"
      ]
    },
    {
      "cell_type": "code",
      "execution_count": 94,
      "metadata": {
        "id": "m6W9V-3BpBnq",
        "colab": {
          "base_uri": "https://localhost:8080/"
        },
        "outputId": "c88cea17-921d-40ff-98e5-3dcc8f8701d5"
      },
      "outputs": [
        {
          "output_type": "stream",
          "name": "stdout",
          "text": [
            "-1\n"
          ]
        }
      ],
      "source": [
        "# Example 2\n",
        "x = 1\n",
        "if x < 0:\n",
        "    x = - x\n",
        "x = - x\n",
        "print(x)"
      ]
    },
    {
      "cell_type": "markdown",
      "metadata": {
        "id": "Mf7pSG64aDj6"
      },
      "source": [
        "Let's take a look at an example using the `elif` statement. In the following code snippet, since `x` is not less than 0, the first `if` statement is not executed, and the program moves to the `elif` statement. As `x` is less than 10, the `elif` statement is executed, resulting in `y` being assigned a value of -1."
      ]
    },
    {
      "cell_type": "code",
      "execution_count": 96,
      "metadata": {
        "id": "2kD4slegaDj6",
        "colab": {
          "base_uri": "https://localhost:8080/"
        },
        "outputId": "a25764ce-484c-4dc9-a711-504cff539a27"
      },
      "outputs": [
        {
          "output_type": "stream",
          "name": "stdout",
          "text": [
            "-1\n"
          ]
        }
      ],
      "source": [
        "# Example of elif\n",
        "x = 1\n",
        "if x < 0:\n",
        "    y = 0\n",
        "elif x < 10:\n",
        "\ty = -x\n",
        "else:\n",
        "    y = x\n",
        "print(y)"
      ]
    },
    {
      "cell_type": "markdown",
      "metadata": {
        "id": "lz6Ski4daDj7"
      },
      "source": [
        "Next, let's take a look at comparison operators used in conditional branching. Comparison operators include the following:"
      ]
    },
    {
      "cell_type": "markdown",
      "metadata": {
        "id": "wpOMmy3naDj7"
      },
      "source": [
        "|Comparison Operator|Description|\n",
        "|:-|:-|\n",
        "|x == y| x is equal to y|\n",
        "|x != y| x is not equal to y|\n",
        "|x > y| x is greater than y|\n",
        "|x < y| x is less than y|\n",
        "|x >= y| x is greater than or equal to y|\n",
        "|x <= y| x is less than or equal to y|"
      ]
    },
    {
      "cell_type": "code",
      "execution_count": 97,
      "metadata": {
        "id": "2UWhL_8MPBaj",
        "colab": {
          "base_uri": "https://localhost:8080/"
        },
        "outputId": "4bb773a8-5257-45a1-a680-1aa148074e95"
      },
      "outputs": [
        {
          "output_type": "stream",
          "name": "stdout",
          "text": [
            "10 is less than 20\n"
          ]
        }
      ],
      "source": [
        "x = 10\n",
        "y = 20\n",
        "\n",
        "if x < y:\n",
        "    print(f\"{x} is less than {y}\")\n",
        "elif x == y:\n",
        "    print(f\"{x} is equal to {y}\")\n",
        "else:\n",
        "    print(f\"{x} is greater than {y}\")\n"
      ]
    },
    {
      "cell_type": "markdown",
      "metadata": {
        "id": "fQr4RUIjaDj8"
      },
      "source": [
        "The **f** in `f-string` stands for **format**. It is convenient for embedding variables within the arguments of `print`.\n",
        "\n",
        "Now, let's take a look at logical operators that are used for conditional branching, in addition to comparison operators. Here are some of the logical operators:"
      ]
    },
    {
      "cell_type": "markdown",
      "metadata": {
        "id": "Xf9s9oG5aDj9"
      },
      "source": [
        "|Logical Operator|Explanation|\n",
        "|:-|:-|\n",
        "|x and y|True if both x and y are true|\n",
        "|x or y|True if either x or y is true|\n",
        "|not x|True if x is false|"
      ]
    },
    {
      "cell_type": "code",
      "execution_count": 98,
      "metadata": {
        "id": "1aaDWLxYPYgd",
        "colab": {
          "base_uri": "https://localhost:8080/"
        },
        "outputId": "216ce929-76d2-4365-8b9e-ee3ed36b0358"
      },
      "outputs": [
        {
          "output_type": "stream",
          "name": "stdout",
          "text": [
            "This person is eligible to apply for a loan\n"
          ]
        }
      ],
      "source": [
        "# Example of the 'and' operator\n",
        "age = 25\n",
        "income = 2000\n",
        "\n",
        "# Combining multiple conditions using the 'and' operator\n",
        "if age > 18 and income >= 700:\n",
        "    print(\"This person is eligible to apply for a loan\")\n",
        "else:\n",
        "    print(\"This person is not eligible to apply for a loan\")"
      ]
    },
    {
      "cell_type": "code",
      "execution_count": 99,
      "metadata": {
        "id": "71QSY4JCaDj9",
        "colab": {
          "base_uri": "https://localhost:8080/"
        },
        "outputId": "09236fc2-216b-460a-d433-7bbc27554dea"
      },
      "outputs": [
        {
          "output_type": "stream",
          "name": "stdout",
          "text": [
            "You can get a discount\n"
          ]
        }
      ],
      "source": [
        "# Example of the OR operator\n",
        "is_student = False\n",
        "income = 100\n",
        "\n",
        "if is_student or income < 250:\n",
        "    print(\"You can get a discount\")\n",
        "else:\n",
        "    print(\"You cannot get a discount\")"
      ]
    },
    {
      "cell_type": "code",
      "execution_count": 100,
      "metadata": {
        "id": "kSfKtY9baDj9",
        "colab": {
          "base_uri": "https://localhost:8080/"
        },
        "outputId": "41c45695-e8e9-4ee2-94e3-1acabb544394"
      },
      "outputs": [
        {
          "output_type": "stream",
          "name": "stdout",
          "text": [
            "The account is inactive\n"
          ]
        }
      ],
      "source": [
        "# Example of the not operator\n",
        "is_active = False\n",
        "\n",
        "if not is_active:  # Reverses the boolean value\n",
        "    print(\"The account is inactive\")\n",
        "else:\n",
        "    print(\"The account is active\")"
      ]
    },
    {
      "cell_type": "markdown",
      "metadata": {
        "id": "MfjT3ZXZf5qN"
      },
      "source": [
        "## 3.2. Loops (for Loop)"
      ]
    },
    {
      "cell_type": "markdown",
      "metadata": {
        "id": "3-GDkSXsla6W"
      },
      "source": [
        "### 3.2.1 for Loops and range()"
      ]
    },
    {
      "cell_type": "markdown",
      "metadata": {
        "id": "nrYc6RZki0hC"
      },
      "source": [
        "The `for` loop is used when you want to repeat the same process without writing it multiple times. You can specify the number of times you want to repeat using `range()`. Here is how you write a `for` loop using `range()`."
      ]
    },
    {
      "cell_type": "markdown",
      "metadata": {
        "id": "rnVc-yBlht1u"
      },
      "source": [
        "```python\n",
        "for <variable> in range(number of repetitions):\n",
        "    <process>\n",
        "```"
      ]
    },
    {
      "cell_type": "markdown",
      "metadata": {
        "id": "2esD3px4kSqm"
      },
      "source": [
        "Colons (:) and the initial indentation (4 spaces or a tab) are required, so be sure not to omit them. The processing will be repeated until the number of times specified in the `range` is completed. A variable is assigned values starting at 0, increasing by 1 with each iteration. If the variable does not have any special meaning assigned to it, common variable names like `i` (short for index or iterator), `j`, or `k` (alphabetical order after `i`) are often used for naming variables."
      ]
    },
    {
      "cell_type": "markdown",
      "metadata": {
        "id": "Y5WPKxkvlKDA"
      },
      "source": [
        "Next, we will show a code example that repeats an operation following the same structure, and then demonstrate how to simplify it using a `for` loop."
      ]
    },
    {
      "cell_type": "code",
      "execution_count": 101,
      "metadata": {
        "id": "qPcRmJLgkuYI",
        "colab": {
          "base_uri": "https://localhost:8080/"
        },
        "outputId": "53720c9c-62a1-47eb-96ea-7b78e6417ed4"
      },
      "outputs": [
        {
          "output_type": "stream",
          "name": "stdout",
          "text": [
            "Python 0\n",
            "Python 1\n",
            "Python 2\n",
            "Python 3\n",
            "Python 4\n"
          ]
        }
      ],
      "source": [
        "print('Python', 0)\n",
        "print('Python', 1)\n",
        "print('Python', 2)\n",
        "print('Python', 3)\n",
        "print('Python', 4)"
      ]
    },
    {
      "cell_type": "code",
      "execution_count": 102,
      "metadata": {
        "id": "jv5Dt9WEkWcr",
        "colab": {
          "base_uri": "https://localhost:8080/"
        },
        "outputId": "c4ec3643-fd09-49df-f472-7a8bf5f560ea"
      },
      "outputs": [
        {
          "output_type": "stream",
          "name": "stdout",
          "text": [
            "Python syntax 0\n",
            "Python syntax 1\n",
            "Python syntax 2\n",
            "Python syntax 3\n",
            "Python syntax 4\n"
          ]
        }
      ],
      "source": [
        "# Loop using for statement\n",
        "for i in range(5):\n",
        "    print('Python syntax', i)"
      ]
    },
    {
      "cell_type": "code",
      "execution_count": 103,
      "metadata": {
        "id": "hPRWpi5NbIPo",
        "colab": {
          "base_uri": "https://localhost:8080/"
        },
        "outputId": "681357e7-8c85-4852-d4e4-83a55565a909"
      },
      "outputs": [
        {
          "output_type": "stream",
          "name": "stdout",
          "text": [
            "55\n"
          ]
        }
      ],
      "source": [
        "# Using a for loop for iteration with specified start and end\n",
        "s = 0\n",
        "for n in range(1,11): # integers from 1 to (11-1)\n",
        "    s = s + n\n",
        "print(s)"
      ]
    },
    {
      "cell_type": "markdown",
      "metadata": {
        "id": "sTjYJHLMlw90"
      },
      "source": [
        "### 3.2.2. for Loops and Lists"
      ]
    },
    {
      "cell_type": "markdown",
      "metadata": {
        "id": "Ub3p2u2Vl7IT"
      },
      "source": [
        "The `for` loop can be combined with lists as discussed in Python Grammar II. You can iterate through the elements of a list using `range()`, but placing a list after `in` allows you to iterate through each element of the list sequentially. Here is how to write a `for` loop that iterates over a list."
      ]
    },
    {
      "cell_type": "markdown",
      "metadata": {
        "id": "R52pwA3Nh_tf"
      },
      "source": [
        "```python\n",
        "for <variable> in <list>:\n",
        "    <process>\n",
        "```"
      ]
    },
    {
      "cell_type": "markdown",
      "metadata": {
        "id": "p9AqmC7Vmdr0"
      },
      "source": [
        "The elements of the list are assigned to variables one by one, and the process is repeated for the number of elements."
      ]
    },
    {
      "cell_type": "markdown",
      "metadata": {
        "id": "LNshG55liUry"
      },
      "source": [
        "Next, I will show examples combining `for` loops with lists and using `range()`."
      ]
    },
    {
      "cell_type": "code",
      "execution_count": 104,
      "metadata": {
        "id": "FMdEs1G4nYTA",
        "colab": {
          "base_uri": "https://localhost:8080/"
        },
        "outputId": "f4f57c70-29e5-46e7-c87f-a40ed73b2176"
      },
      "outputs": [
        {
          "output_type": "stream",
          "name": "stdout",
          "text": [
            "1\n",
            "2\n",
            "3\n",
            "4\n",
            "5\n"
          ]
        }
      ],
      "source": [
        "# Loop and List\n",
        "number = [1, 2, 3, 4, 5]\n",
        "for n in number:\n",
        "    print(n)"
      ]
    },
    {
      "cell_type": "code",
      "execution_count": 105,
      "metadata": {
        "id": "OD-188PJMolh",
        "colab": {
          "base_uri": "https://localhost:8080/"
        },
        "outputId": "bd7b5e05-2ee3-4aeb-853e-dc5311d357b8"
      },
      "outputs": [
        {
          "output_type": "stream",
          "name": "stdout",
          "text": [
            "15\n"
          ]
        }
      ],
      "source": [
        "# Loop and List\n",
        "number = [1, 2, 3, 4, 5]\n",
        "s = 0\n",
        "for n in number:\n",
        "    s = s + n # Add elements of the list to s\n",
        "print(s)"
      ]
    },
    {
      "cell_type": "code",
      "execution_count": 106,
      "metadata": {
        "id": "cbftlBP5M2fw",
        "colab": {
          "base_uri": "https://localhost:8080/"
        },
        "outputId": "f4582d62-29df-4271-da0e-8771d004de3b"
      },
      "outputs": [
        {
          "output_type": "stream",
          "name": "stdout",
          "text": [
            "15\n"
          ]
        }
      ],
      "source": [
        "# Loop through a list using a for loop and range()\n",
        "number = [1, 2, 3, 4, 5]\n",
        "s = 0\n",
        "for i in range(len(number)):\n",
        "    s = s + number[i]\n",
        "print(s)"
      ]
    },
    {
      "cell_type": "markdown",
      "metadata": {
        "id": "gjRZ60FCqDw2"
      },
      "source": [
        "### 3.2.3. for Loops and enumerate()"
      ]
    },
    {
      "cell_type": "markdown",
      "metadata": {
        "id": "2CiqKkuLqLEh"
      },
      "source": [
        "Sometimes, you may want to use both the index and the element when combining lists and for loops. In that case, `enumerate()` comes in handy. Here is how you can use `enumerate()` with a `for` loop on a list."
      ]
    },
    {
      "cell_type": "markdown",
      "metadata": {
        "id": "_T58Qx8EiAjv"
      },
      "source": [
        "```python\n",
        "for <variable1>, <variable2> in enumerate(<list>):\n",
        "    <process>\n",
        "```"
      ]
    },
    {
      "cell_type": "markdown",
      "metadata": {
        "id": "spuNyU4BsNm7"
      },
      "source": [
        "Note that `enumerate` is an English word that means to list items one by one."
      ]
    },
    {
      "cell_type": "markdown",
      "metadata": {
        "id": "76cyjGHMrrNL"
      },
      "source": [
        "Variable 1 stores the index of the list, variable 2 stores the elements of the list, and the process is repeated. Below are examples of code that extracts the index and elements of a list sequentially using `enumerate` and `range`."
      ]
    },
    {
      "cell_type": "code",
      "execution_count": 107,
      "metadata": {
        "id": "xeqhQ45hqRns",
        "colab": {
          "base_uri": "https://localhost:8080/"
        },
        "outputId": "53ae91d2-8b1f-4256-f7aa-8a1e873ebdb1"
      },
      "outputs": [
        {
          "output_type": "stream",
          "name": "stdout",
          "text": [
            "0 salad\n",
            "1 soup\n",
            "2 steak\n",
            "3 cake\n"
          ]
        }
      ],
      "source": [
        "menu = ['salad', 'soup', 'steak', 'cake']\n",
        "for i, food in enumerate(menu):\n",
        "    print(i, food)  # Using enumerate() to extract index and element in order"
      ]
    },
    {
      "cell_type": "code",
      "execution_count": 108,
      "metadata": {
        "id": "ynyRUZkHrB95",
        "colab": {
          "base_uri": "https://localhost:8080/"
        },
        "outputId": "dc510ea1-6a0b-4cc2-bd99-e36f41e38b42"
      },
      "outputs": [
        {
          "output_type": "stream",
          "name": "stdout",
          "text": [
            "0 salad\n",
            "1 soup\n",
            "2 steak\n",
            "3 cake\n"
          ]
        }
      ],
      "source": [
        "menu = ['salad', 'soup','steak', 'cake']\n",
        "for i in range(len(menu)):\n",
        "    print(i, menu[i])"
      ]
    },
    {
      "cell_type": "markdown",
      "metadata": {
        "id": "AHogHXVihom-"
      },
      "source": [
        "## 3.3. Practice Problems"
      ]
    },
    {
      "cell_type": "markdown",
      "metadata": {
        "id": "pCSEnKI8U1e4"
      },
      "source": [
        "(3-1) Write a program using the `if` statement."
      ]
    },
    {
      "cell_type": "code",
      "execution_count": 109,
      "metadata": {
        "id": "uFwhdEO5Ra1x",
        "colab": {
          "base_uri": "https://localhost:8080/"
        },
        "outputId": "489e0c1d-7e7f-4a39-948f-ab21536bb2e7"
      },
      "outputs": [
        {
          "output_type": "stream",
          "name": "stdout",
          "text": [
            "False\n"
          ]
        }
      ],
      "source": [
        "x = 3\n",
        "if x%2==0:\n",
        "  is_even = True\n",
        "else:\n",
        "  is_even = False\n",
        "print(is_even)"
      ]
    },
    {
      "cell_type": "markdown",
      "metadata": {
        "id": "d6iYNyArRWW8"
      },
      "source": [
        "(3-2) Write a program of your choice using a `for` loop."
      ]
    },
    {
      "cell_type": "code",
      "execution_count": 111,
      "metadata": {
        "id": "hbpNm1nxRbM4",
        "colab": {
          "base_uri": "https://localhost:8080/"
        },
        "outputId": "180ff07c-c87a-4c3a-b010-e56eccc5181b"
      },
      "outputs": [
        {
          "output_type": "stream",
          "name": "stdout",
          "text": [
            "0 2\n",
            "1 3\n",
            "2 5\n",
            "3 7\n"
          ]
        }
      ],
      "source": [
        "for i, prime in enumerate(prime_number_less_10_list):\n",
        "  print(i, prime)"
      ]
    },
    {
      "cell_type": "markdown",
      "metadata": {
        "id": "VpjCvhi6Q-YX"
      },
      "source": [
        "(3-3) Let's assume that a variable `x` contains a list of integers with a length of 1 or more. Create a program that returns the largest element in `x`. Achieve this without using functions like `max()`, and instead use loops (repetition with `for` statement)."
      ]
    },
    {
      "cell_type": "code",
      "execution_count": 112,
      "metadata": {
        "id": "PNrxgiSPQ-YY"
      },
      "outputs": [],
      "source": [
        "x = [1, 2, 3]  # Input example"
      ]
    },
    {
      "cell_type": "code",
      "execution_count": 113,
      "metadata": {
        "id": "T31eGDweQ-YY",
        "colab": {
          "base_uri": "https://localhost:8080/"
        },
        "outputId": "c411bf2e-13b0-4d4c-b31b-ac713c385dcd"
      },
      "outputs": [
        {
          "output_type": "stream",
          "name": "stdout",
          "text": [
            "3\n"
          ]
        }
      ],
      "source": [
        "# WRITE ME!\n",
        "max = 0\n",
        "for i in x:\n",
        "  if i > max:\n",
        "    max = i\n",
        "print(max)"
      ]
    },
    {
      "cell_type": "markdown",
      "metadata": {
        "id": "L5EgwJBoi7Ja"
      },
      "source": [
        "# 4. Python Grammar IV\n",
        "Related explanatory video: https://www.youtube.com/playlist?list=PLiEF5y87wtyyc3mVmmRpUcAi_a74w52CI"
      ]
    },
    {
      "cell_type": "markdown",
      "metadata": {
        "id": "qp-RKOZbOW9r"
      },
      "source": [
        "## 4.1. Functions"
      ]
    },
    {
      "cell_type": "markdown",
      "metadata": {
        "id": "_UgbfMOrQ-YO"
      },
      "source": [
        "There may be times when you want to reuse something you created earlier while creating a program. By using a **function**, you can name and save the flow of that process, allowing you to call it when needed. Such predefined processes to execute code are called functions.\n",
        "\n",
        "The format is as follows:\n",
        "\n",
        "- Function definition\n",
        "\n",
        "```python\n",
        "def <function_name>(<arguments>, ...):\n",
        "    <function_body>\n",
        "```\n",
        "\n",
        "- Function call\n",
        "\n",
        "```python\n",
        "<function_name>(<arguments>, ...)\n",
        "```\n",
        "\n",
        "When calling a function, you pass 0 or more **arguments**. These argument values can be used in the processing within the function. To make this clearer, let us explain specifically using a program to find the absolute value as an example.\n",
        "\n",
        "When given a value `x`, you can find its absolute value `y` using the program below."
      ]
    },
    {
      "cell_type": "code",
      "execution_count": 114,
      "metadata": {
        "id": "9tdABUZ0Q-YO",
        "colab": {
          "base_uri": "https://localhost:8080/"
        },
        "outputId": "300f0c54-fb7f-4406-feab-82e69298138f"
      },
      "outputs": [
        {
          "output_type": "stream",
          "name": "stdout",
          "text": [
            "1\n"
          ]
        }
      ],
      "source": [
        "# Program to find the absolute value\n",
        "x = -1\n",
        "if (x < 0):\n",
        "    y = - x\n",
        "else:\n",
        "    y = x\n",
        "print(y)"
      ]
    },
    {
      "cell_type": "markdown",
      "metadata": {
        "id": "cLx0Jh8TQ-YP"
      },
      "source": [
        "Let's turn this process into a function. To use a function, you first need to **define** the function. Function definition is done as follows:"
      ]
    },
    {
      "cell_type": "code",
      "execution_count": 115,
      "metadata": {
        "id": "FhHvslNWQ-YP"
      },
      "outputs": [],
      "source": [
        "# Definition of a function to find the absolute value\n",
        "def absolute(x):\n",
        "    if (x < 0):\n",
        "        y = - x\n",
        "    else:\n",
        "        y = x\n",
        "    return y"
      ]
    },
    {
      "cell_type": "code",
      "source": [
        "# Calling the function to find the absolute value\n",
        "print(absolute(-1))"
      ],
      "metadata": {
        "id": "EgaOeD0S6mQL",
        "colab": {
          "base_uri": "https://localhost:8080/"
        },
        "outputId": "98a9821c-4c16-484f-af5b-77799419ddc2"
      },
      "execution_count": 116,
      "outputs": [
        {
          "output_type": "stream",
          "name": "stdout",
          "text": [
            "1\n"
          ]
        }
      ]
    },
    {
      "cell_type": "markdown",
      "metadata": {
        "id": "f9J3xe7jQ-YP"
      },
      "source": [
        "Here, the function name is defined as `absolute`, which means absolute value. When calling (using) this function, we use this name.\n",
        "\n",
        "Let's call the `absolute` function. When you call a function, you must provide arguments, and their number has to match the number specified in the function's definition."
      ]
    },
    {
      "cell_type": "markdown",
      "metadata": {
        "id": "o417f1XMQ-YP"
      },
      "source": [
        "Earlier we mentioned that the code inside a function can use the values of its arguments. In the example above, when calling the function, we provide -1 as an argument, and this gets copied to the argument `x` that was specified in the function definition.\n",
        "\n",
        "In programming terminology, the arguments provided during the function definition are called **formal parameters**, and the arguments provided during the function call are called **actual parameters**.\n",
        "\n",
        "The value returned by the `return` statement within the function is known as the **return value**. In the example above, `y` becomes the return value, and you can confirm that it is the absolute value of `x`."
      ]
    },
    {
      "cell_type": "markdown",
      "metadata": {
        "id": "TMcgLRFLQ-YP"
      },
      "source": [
        "You can also define functions with multiple arguments. Just make sure that the order of the actual arguments corresponds to that of the formal parameters."
      ]
    },
    {
      "cell_type": "code",
      "source": [
        "# WRITE ME!"
      ],
      "metadata": {
        "id": "NBq-BtrLQ4ZV"
      },
      "execution_count": null,
      "outputs": []
    },
    {
      "cell_type": "code",
      "execution_count": 117,
      "metadata": {
        "id": "lMnXy223Q-YP"
      },
      "outputs": [],
      "source": [
        "# Answer: A function to calculate the power\n",
        "def power(x, y):\n",
        "    return x ** y"
      ]
    },
    {
      "cell_type": "code",
      "execution_count": 118,
      "metadata": {
        "id": "LI_wApmwQ-YP",
        "colab": {
          "base_uri": "https://localhost:8080/"
        },
        "outputId": "3f8e5ca0-4e32-4a0a-b98c-e119b1b204fb"
      },
      "outputs": [
        {
          "output_type": "execute_result",
          "data": {
            "text/plain": [
              "8"
            ]
          },
          "metadata": {},
          "execution_count": 118
        }
      ],
      "source": [
        "power(2, 3)"
      ]
    },
    {
      "cell_type": "code",
      "execution_count": 119,
      "metadata": {
        "id": "bQIYIdD7Q-YP",
        "colab": {
          "base_uri": "https://localhost:8080/"
        },
        "outputId": "adbaec5a-0d47-4a40-a2ae-a557a46a74aa"
      },
      "outputs": [
        {
          "output_type": "execute_result",
          "data": {
            "text/plain": [
              "9"
            ]
          },
          "metadata": {},
          "execution_count": 119
        }
      ],
      "source": [
        "power(3, 2)"
      ]
    },
    {
      "cell_type": "markdown",
      "metadata": {
        "id": "MjB4q71TQ-YQ"
      },
      "source": [
        "When explicitly specifying the correspondence between formal parameters and actual arguments, you specify it in the form `<formal parameter>=<actual argument>`. Arguments passed in this format are called **keyword arguments**. In contrast, arguments for which the correspondence is not explicitly specified (assuming that the order of the actual arguments corresponds to that of the formal parameters) are sometimes referred to as **positional arguments**."
      ]
    },
    {
      "cell_type": "code",
      "execution_count": 120,
      "metadata": {
        "id": "VFzU_P15Q-YQ",
        "colab": {
          "base_uri": "https://localhost:8080/"
        },
        "outputId": "fcd606df-3a1a-4ab9-ec1d-42513ed1a218"
      },
      "outputs": [
        {
          "output_type": "execute_result",
          "data": {
            "text/plain": [
              "9"
            ]
          },
          "metadata": {},
          "execution_count": 120
        }
      ],
      "source": [
        "power(y=2, x=3)"
      ]
    },
    {
      "cell_type": "markdown",
      "metadata": {
        "id": "-ow9Q8aNQ-YQ"
      },
      "source": [
        "Furthermore, you can assign default values to some arguments, making those arguments optional. This is called **default arguments**. If an argument is omitted during a function call, the default value will be used."
      ]
    },
    {
      "cell_type": "code",
      "execution_count": 121,
      "metadata": {
        "id": "X0Dw-W6uQ-YQ"
      },
      "outputs": [],
      "source": [
        "def power(x=1, y=1):\n",
        "    return x ** y"
      ]
    },
    {
      "cell_type": "code",
      "execution_count": 122,
      "metadata": {
        "id": "N_j8adBuQ-YQ",
        "colab": {
          "base_uri": "https://localhost:8080/"
        },
        "outputId": "4b1f3c25-23e9-46c4-8617-c0bce6f47d71"
      },
      "outputs": [
        {
          "output_type": "execute_result",
          "data": {
            "text/plain": [
              "3"
            ]
          },
          "metadata": {},
          "execution_count": 122
        }
      ],
      "source": [
        "power(x=3)"
      ]
    },
    {
      "cell_type": "markdown",
      "metadata": {
        "id": "xScuQ5sXUigO"
      },
      "source": [
        "## 4.2. Practice Problems"
      ]
    },
    {
      "cell_type": "markdown",
      "metadata": {
        "id": "zXQKjy_-Q-YY"
      },
      "source": [
        "(4-1) Define a function `f` that takes a string `x` with a length of 1 or more as an argument and returns the last character of `x`."
      ]
    },
    {
      "cell_type": "code",
      "execution_count": 123,
      "metadata": {
        "id": "uTg1WCqMicCX"
      },
      "outputs": [],
      "source": [
        "x = 'python'"
      ]
    },
    {
      "cell_type": "code",
      "execution_count": 127,
      "metadata": {
        "id": "eTYwB8KkQ-YY"
      },
      "outputs": [],
      "source": [
        "# WRITE ME!\n",
        "def f(x):\n",
        "  return x[-1]"
      ]
    },
    {
      "cell_type": "markdown",
      "metadata": {
        "id": "M0zaovn-Q-YY"
      },
      "source": [
        "(4-2) Define a function `f` that takes a dictionary as an argument `x` and returns the number of keys stored in `x`."
      ]
    },
    {
      "cell_type": "code",
      "execution_count": 125,
      "metadata": {
        "id": "U4RoIwpLij0l"
      },
      "outputs": [],
      "source": [
        "x = {\"a\": 1, \"b\": 2, \"c\": 3, 'd':4, 'e':5}"
      ]
    },
    {
      "cell_type": "code",
      "execution_count": 126,
      "metadata": {
        "id": "Q3crlp11Q-YY"
      },
      "outputs": [],
      "source": [
        "# WRITE ME!\n",
        "def f(x):\n",
        "  return len(x)"
      ]
    },
    {
      "cell_type": "markdown",
      "metadata": {
        "id": "UOAiQVDLQ-YY"
      },
      "source": [
        "(4-3)\n",
        "Define a function `f` that takes a list as an argument `x` and returns a list of elements of `x` in reverse order. However, achieve this without using functions like `reversed`, but using loops or list slicing."
      ]
    },
    {
      "cell_type": "code",
      "execution_count": 128,
      "metadata": {
        "id": "xd2eLaPUixh3"
      },
      "outputs": [],
      "source": [
        "x = [3, 9, 7, 1, 0]"
      ]
    },
    {
      "cell_type": "code",
      "execution_count": 129,
      "metadata": {
        "id": "ONwteVyaQ-YY"
      },
      "outputs": [],
      "source": [
        "# WRITE ME!\n",
        "def f(x):\n",
        "  return x[::-1]"
      ]
    },
    {
      "cell_type": "markdown",
      "metadata": {
        "id": "Q-ICRcdKWX8h"
      },
      "source": [
        "(4-4) The following function was intended to display \"I am X years old.\" However, as it is, it results in an error. Please modify the function below. The argument for the function, `age`, is expected to be an integer. Assign the string you want to display to `msg`, store it in a dictionary. Then, print the value from the dictionary by specifying its key."
      ]
    },
    {
      "cell_type": "code",
      "execution_count": 132,
      "metadata": {
        "id": "JD_WMgQ_Web4",
        "colab": {
          "base_uri": "https://localhost:8080/"
        },
        "outputId": "04596de1-e91e-48b3-eaf8-981ea3fb4a64"
      },
      "outputs": [
        {
          "output_type": "stream",
          "name": "stdout",
          "text": [
            "My age is 18 years old.\n"
          ]
        }
      ],
      "source": [
        "def print_my_age(age):\n",
        "    msg = 'My age is ' + str(age) + ' years old.'\n",
        "    msg_dict = {'msg': msg}\n",
        "    print(msg_dict['msg'])\n",
        "\n",
        "print_my_age(18)\n"
      ]
    },
    {
      "cell_type": "markdown",
      "metadata": {
        "id": "ATsX3QN6FRpZ"
      },
      "source": [
        "## 4.3 Modules and Libraries"
      ]
    },
    {
      "cell_type": "markdown",
      "metadata": {
        "id": "0uwt9RSEFRpZ"
      },
      "source": [
        "When developing programs, there are times when you want to use functions or classes defined in other program files. In Python, you can do this by importing them as **modules**. A module represents a single program file and serves as a component.\n",
        "\n",
        "A collection of modules is called a **package**, and a collection of packages is referred to as a **library**. The terminology around this is not clearly defined, and sometimes the terms \"library\" may also be used to refer to modules or packages. In the following discussion, we will use the terms \"module\" and \"library\". You can understand them to mean \"a single program file\" and \"a collection of multiple program files\", respectively."
      ]
    },
    {
      "cell_type": "markdown",
      "metadata": {
        "id": "HxhHpO2GFRpZ"
      },
      "source": [
        "In Python, you can read a module by importing it. If the program file is named `functions.py` in the same directory, you write it as follows."
      ]
    },
    {
      "cell_type": "markdown",
      "metadata": {
        "id": "uTFIPIdsFRpZ"
      },
      "source": [
        "```python\n",
        "import functions\n",
        "```"
      ]
    },
    {
      "cell_type": "markdown",
      "metadata": {
        "id": "9pKsxUhZFRpZ"
      },
      "source": [
        "When you `import` a program, you can use functions or classes defined in that program file. Let's try calling the function `f` defined in the `example.py` file. This `f` function is an identity function that takes one argument and returns it as is."
      ]
    },
    {
      "cell_type": "markdown",
      "metadata": {
        "id": "9eXIiEvbFRpZ"
      },
      "source": [
        "```python\n",
        "functions.Nibai(2)\n",
        "```"
      ]
    },
    {
      "cell_type": "markdown",
      "metadata": {
        "id": "8rjRlc2wFRpZ"
      },
      "source": [
        "As development progresses and the size of the program grows, it becomes important to divide it into smaller components for management. By grouping functions and classes by functionality and extracting them into separate files, the visibility of the program often improves. It is advisable to keep this in mind when undertaking large-scale development."
      ]
    },
    {
      "cell_type": "markdown",
      "metadata": {
        "id": "cxFapzpFFRpZ"
      },
      "source": [
        "Next, let's talk about libraries. In Python, there is something called the standard library, which provides various functions that we can use. One of the modules included in the standard library is the `math` module, which contains mathematical functions. Here, we will discuss this module."
      ]
    },
    {
      "cell_type": "markdown",
      "metadata": {
        "id": "AvrPv4a1FRpZ"
      },
      "source": [
        "The `math` module defines exponential functions, logarithmic functions, trigonometric functions, and more. By importing this module, you can use these functions. When actually using them, you need to specify `<module name>.<variable name/function name/class name>`."
      ]
    },
    {
      "cell_type": "code",
      "execution_count": 133,
      "metadata": {
        "id": "V7CnsE_rFRpZ"
      },
      "outputs": [],
      "source": [
        "import math"
      ]
    },
    {
      "cell_type": "code",
      "execution_count": 134,
      "metadata": {
        "id": "_d1KIHwvFRpZ",
        "colab": {
          "base_uri": "https://localhost:8080/"
        },
        "outputId": "044cdece-12f9-4046-ffb1-26f51ad05f8c"
      },
      "outputs": [
        {
          "output_type": "execute_result",
          "data": {
            "text/plain": [
              "2.718281828459045"
            ]
          },
          "metadata": {},
          "execution_count": 134
        }
      ],
      "source": [
        "# Exponential function\n",
        "math.exp(1.0)"
      ]
    },
    {
      "cell_type": "code",
      "execution_count": 135,
      "metadata": {
        "id": "jeLbH1UdFRpa",
        "colab": {
          "base_uri": "https://localhost:8080/"
        },
        "outputId": "d9b7da87-e0c6-468d-a6e6-fdf21a18c15c"
      },
      "outputs": [
        {
          "output_type": "execute_result",
          "data": {
            "text/plain": [
              "1.0"
            ]
          },
          "metadata": {},
          "execution_count": 135
        }
      ],
      "source": [
        "#Logarithmic Function\n",
        "math.log(math.e)"
      ]
    },
    {
      "cell_type": "markdown",
      "metadata": {
        "id": "CeJVbdpsFRpa"
      },
      "source": [
        "By using `from <module_name> import <variable_name/function_name/class_name>`, you can use the variable/function/class without the module name."
      ]
    },
    {
      "cell_type": "code",
      "execution_count": 136,
      "metadata": {
        "id": "gNMxm4NwFRpa"
      },
      "outputs": [],
      "source": [
        "from math import sin\n",
        "from math import cos\n",
        "from math import tan\n",
        "from math import pi"
      ]
    },
    {
      "cell_type": "code",
      "execution_count": 137,
      "metadata": {
        "id": "sxgtaOt6FRpa",
        "colab": {
          "base_uri": "https://localhost:8080/"
        },
        "outputId": "e8b5f24f-7cd7-4466-d37d-10ee7df8d115"
      },
      "outputs": [
        {
          "output_type": "execute_result",
          "data": {
            "text/plain": [
              "1.2246467991473532e-16"
            ]
          },
          "metadata": {},
          "execution_count": 137
        }
      ],
      "source": [
        "# Trignometric Function\n",
        "sin(pi)"
      ]
    },
    {
      "cell_type": "code",
      "execution_count": 138,
      "metadata": {
        "id": "AUa0ZZJ8FRpa",
        "colab": {
          "base_uri": "https://localhost:8080/"
        },
        "outputId": "445c95bb-4032-4e39-a2e0-e7c65add31c4"
      },
      "outputs": [
        {
          "output_type": "execute_result",
          "data": {
            "text/plain": [
              "-1.0"
            ]
          },
          "metadata": {},
          "execution_count": 138
        }
      ],
      "source": [
        "# Trignometric Function\n",
        "cos(pi)"
      ]
    },
    {
      "cell_type": "code",
      "execution_count": 139,
      "metadata": {
        "id": "dMoNRi7GFRpa",
        "colab": {
          "base_uri": "https://localhost:8080/"
        },
        "outputId": "4125717b-4369-4488-da85-2d7d539211ec"
      },
      "outputs": [
        {
          "output_type": "execute_result",
          "data": {
            "text/plain": [
              "-1.2246467991473532e-16"
            ]
          },
          "metadata": {},
          "execution_count": 139
        }
      ],
      "source": [
        "# Trignometric Function\n",
        "tan(pi)"
      ]
    },
    {
      "cell_type": "markdown",
      "metadata": {
        "id": "K8JOBsp6FRpa"
      },
      "source": [
        "In addition to the standard library provided by Python, various libraries have been developed and publicly available. These libraries, which are distinct from the standard library, are referred to as external libraries. Python is one of the languages with the most comprehensive external libraries. In particular, it is popular for performing machine learning tasks in data analysis due to the abundance of libraries available. We will learn more about external libraries in the next section."
      ]
    }
  ],
  "metadata": {
    "colab": {
      "provenance": [],
      "toc_visible": true,
      "include_colab_link": true
    },
    "kernelspec": {
      "display_name": "Python 3",
      "name": "python3"
    },
    "language_info": {
      "name": "python"
    }
  },
  "nbformat": 4,
  "nbformat_minor": 0
}